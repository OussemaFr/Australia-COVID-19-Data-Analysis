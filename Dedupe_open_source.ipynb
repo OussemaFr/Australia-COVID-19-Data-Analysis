{
 "cells": [
  {
   "cell_type": "markdown",
   "metadata": {},
   "source": [
    "# Install libraries"
   ]
  },
  {
   "cell_type": "code",
   "execution_count": null,
   "metadata": {},
   "outputs": [],
   "source": [
    "!pip install pandas-dedupe\n",
    "!pip install seaborn"
   ]
  },
  {
   "cell_type": "markdown",
   "metadata": {},
   "source": [
    "# Import libraries"
   ]
  },
  {
   "cell_type": "code",
   "execution_count": 19,
   "metadata": {},
   "outputs": [],
   "source": [
    "import pandas as pd\n",
    "from sqlalchemy import create_engine\n",
    "\n",
    "import seaborn as sns \n",
    "import matplotlib.pyplot as plt\n",
    "%matplotlib inline "
   ]
  },
  {
   "cell_type": "markdown",
   "metadata": {},
   "source": [
    "# Import sql databases as Dataframes"
   ]
  },
  {
   "cell_type": "code",
   "execution_count": null,
   "metadata": {},
   "outputs": [],
   "source": [
    "db_schema = 'sqlite:///inria-aphp-assignment-master/data.db'\n",
    "engine = create_engine(db_schema, echo=False)\n",
    "con = engine.connect()\n",
    "df_patient_cleaned = pd.read_sql('select * from patient_cleaned', con=con)\n",
    "con.close()"
   ]
  },
  {
   "cell_type": "markdown",
   "metadata": {},
   "source": [
    "# Data Analysis"
   ]
  },
  {
   "cell_type": "code",
   "execution_count": 20,
   "metadata": {},
   "outputs": [
    {
     "data": {
      "text/html": [
       "<div>\n",
       "<style scoped>\n",
       "    .dataframe tbody tr th:only-of-type {\n",
       "        vertical-align: middle;\n",
       "    }\n",
       "\n",
       "    .dataframe tbody tr th {\n",
       "        vertical-align: top;\n",
       "    }\n",
       "\n",
       "    .dataframe thead th {\n",
       "        text-align: right;\n",
       "    }\n",
       "</style>\n",
       "<table border=\"1\" class=\"dataframe\">\n",
       "  <thead>\n",
       "    <tr style=\"text-align: right;\">\n",
       "      <th></th>\n",
       "      <th>patient_id</th>\n",
       "      <th>given_name</th>\n",
       "      <th>surname</th>\n",
       "      <th>street_number</th>\n",
       "      <th>address_1</th>\n",
       "      <th>suburb</th>\n",
       "      <th>postcode</th>\n",
       "      <th>state</th>\n",
       "      <th>date_of_birth</th>\n",
       "      <th>age</th>\n",
       "      <th>phone_number</th>\n",
       "      <th>address_2</th>\n",
       "    </tr>\n",
       "  </thead>\n",
       "  <tbody>\n",
       "    <tr>\n",
       "      <th>0</th>\n",
       "      <td>221958</td>\n",
       "      <td>matisse</td>\n",
       "      <td>clarke</td>\n",
       "      <td>13.0</td>\n",
       "      <td>rene street</td>\n",
       "      <td>ellenbrook</td>\n",
       "      <td>2527</td>\n",
       "      <td>wa</td>\n",
       "      <td>19710708.0</td>\n",
       "      <td>32.0</td>\n",
       "      <td>0886018809</td>\n",
       "      <td>westella</td>\n",
       "    </tr>\n",
       "    <tr>\n",
       "      <th>1</th>\n",
       "      <td>771155</td>\n",
       "      <td>joshua</td>\n",
       "      <td>elrick</td>\n",
       "      <td>23.0</td>\n",
       "      <td>andrea place</td>\n",
       "      <td>east preston</td>\n",
       "      <td>2074</td>\n",
       "      <td>nsw</td>\n",
       "      <td>19120921.0</td>\n",
       "      <td>34.0</td>\n",
       "      <td>0297793152</td>\n",
       "      <td>foxdown</td>\n",
       "    </tr>\n",
       "    <tr>\n",
       "      <th>2</th>\n",
       "      <td>231932</td>\n",
       "      <td>alice</td>\n",
       "      <td>conboy</td>\n",
       "      <td>35.0</td>\n",
       "      <td>mountain circuit</td>\n",
       "      <td>prospect</td>\n",
       "      <td>2305</td>\n",
       "      <td>nsw</td>\n",
       "      <td>19810905.0</td>\n",
       "      <td>22.0</td>\n",
       "      <td>0220403934</td>\n",
       "      <td>None</td>\n",
       "    </tr>\n",
       "    <tr>\n",
       "      <th>3</th>\n",
       "      <td>465838</td>\n",
       "      <td>sienna</td>\n",
       "      <td>craswell</td>\n",
       "      <td>39.0</td>\n",
       "      <td>cumberlegeicrescent</td>\n",
       "      <td>henty</td>\n",
       "      <td>3620</td>\n",
       "      <td>wa</td>\n",
       "      <td>19840809.0</td>\n",
       "      <td>30.0</td>\n",
       "      <td>0262832318</td>\n",
       "      <td>jodane</td>\n",
       "    </tr>\n",
       "    <tr>\n",
       "      <th>4</th>\n",
       "      <td>359178</td>\n",
       "      <td>joshua</td>\n",
       "      <td>bastiaans</td>\n",
       "      <td>144.0</td>\n",
       "      <td>lowrie street</td>\n",
       "      <td>campbell town</td>\n",
       "      <td>4051</td>\n",
       "      <td>nsw</td>\n",
       "      <td>19340430.0</td>\n",
       "      <td>31.0</td>\n",
       "      <td>0369359594</td>\n",
       "      <td>None</td>\n",
       "    </tr>\n",
       "    <tr>\n",
       "      <th>...</th>\n",
       "      <td>...</td>\n",
       "      <td>...</td>\n",
       "      <td>...</td>\n",
       "      <td>...</td>\n",
       "      <td>...</td>\n",
       "      <td>...</td>\n",
       "      <td>...</td>\n",
       "      <td>...</td>\n",
       "      <td>...</td>\n",
       "      <td>...</td>\n",
       "      <td>...</td>\n",
       "      <td>...</td>\n",
       "    </tr>\n",
       "    <tr>\n",
       "      <th>19995</th>\n",
       "      <td>368617</td>\n",
       "      <td>abby</td>\n",
       "      <td>None</td>\n",
       "      <td>19.0</td>\n",
       "      <td>john cleland crescent</td>\n",
       "      <td>boyne island</td>\n",
       "      <td>2290</td>\n",
       "      <td>nsw</td>\n",
       "      <td>19570210.0</td>\n",
       "      <td>NaN</td>\n",
       "      <td>0292489054</td>\n",
       "      <td>glenmore</td>\n",
       "    </tr>\n",
       "    <tr>\n",
       "      <th>19996</th>\n",
       "      <td>796658</td>\n",
       "      <td>dale</td>\n",
       "      <td>priest</td>\n",
       "      <td>19.0</td>\n",
       "      <td>bellchambers crescent</td>\n",
       "      <td>hoppers crossing</td>\n",
       "      <td>3033</td>\n",
       "      <td>wa</td>\n",
       "      <td>19590619.0</td>\n",
       "      <td>31.0</td>\n",
       "      <td>0720549476</td>\n",
       "      <td>None</td>\n",
       "    </tr>\n",
       "    <tr>\n",
       "      <th>19997</th>\n",
       "      <td>511885</td>\n",
       "      <td>alessia</td>\n",
       "      <td>mawlai</td>\n",
       "      <td>4.0</td>\n",
       "      <td>miller street</td>\n",
       "      <td>smithfield</td>\n",
       "      <td>3616</td>\n",
       "      <td>tas</td>\n",
       "      <td>NaN</td>\n",
       "      <td>26.0</td>\n",
       "      <td>0383466737</td>\n",
       "      <td>None</td>\n",
       "    </tr>\n",
       "    <tr>\n",
       "      <th>19998</th>\n",
       "      <td>985932</td>\n",
       "      <td>hannah</td>\n",
       "      <td>mason</td>\n",
       "      <td>1.0</td>\n",
       "      <td>halligan place</td>\n",
       "      <td>beaumaris</td>\n",
       "      <td>2443</td>\n",
       "      <td>wa</td>\n",
       "      <td>19140304.0</td>\n",
       "      <td>25.0</td>\n",
       "      <td>0441125514</td>\n",
       "      <td>None</td>\n",
       "    </tr>\n",
       "    <tr>\n",
       "      <th>19999</th>\n",
       "      <td>925217</td>\n",
       "      <td>jack</td>\n",
       "      <td>mcveigh</td>\n",
       "      <td>5.0</td>\n",
       "      <td>alinda place</td>\n",
       "      <td>thornlands</td>\n",
       "      <td>4350</td>\n",
       "      <td>nsw</td>\n",
       "      <td>19230521.0</td>\n",
       "      <td>26.0</td>\n",
       "      <td>0752535106</td>\n",
       "      <td>None</td>\n",
       "    </tr>\n",
       "  </tbody>\n",
       "</table>\n",
       "<p>20000 rows × 12 columns</p>\n",
       "</div>"
      ],
      "text/plain": [
       "       patient_id given_name    surname  street_number              address_1  \\\n",
       "0          221958    matisse     clarke           13.0            rene street   \n",
       "1          771155     joshua     elrick           23.0           andrea place   \n",
       "2          231932      alice     conboy           35.0       mountain circuit   \n",
       "3          465838     sienna   craswell           39.0    cumberlegeicrescent   \n",
       "4          359178     joshua  bastiaans          144.0          lowrie street   \n",
       "...           ...        ...        ...            ...                    ...   \n",
       "19995      368617       abby       None           19.0  john cleland crescent   \n",
       "19996      796658       dale     priest           19.0  bellchambers crescent   \n",
       "19997      511885    alessia     mawlai            4.0          miller street   \n",
       "19998      985932     hannah      mason            1.0         halligan place   \n",
       "19999      925217       jack    mcveigh            5.0           alinda place   \n",
       "\n",
       "                 suburb postcode state  date_of_birth   age phone_number  \\\n",
       "0            ellenbrook     2527    wa     19710708.0  32.0   0886018809   \n",
       "1          east preston     2074   nsw     19120921.0  34.0   0297793152   \n",
       "2              prospect     2305   nsw     19810905.0  22.0   0220403934   \n",
       "3                 henty     3620    wa     19840809.0  30.0   0262832318   \n",
       "4         campbell town     4051   nsw     19340430.0  31.0   0369359594   \n",
       "...                 ...      ...   ...            ...   ...          ...   \n",
       "19995      boyne island     2290   nsw     19570210.0   NaN   0292489054   \n",
       "19996  hoppers crossing     3033    wa     19590619.0  31.0   0720549476   \n",
       "19997        smithfield     3616   tas            NaN  26.0   0383466737   \n",
       "19998         beaumaris     2443    wa     19140304.0  25.0   0441125514   \n",
       "19999        thornlands     4350   nsw     19230521.0  26.0   0752535106   \n",
       "\n",
       "      address_2  \n",
       "0      westella  \n",
       "1       foxdown  \n",
       "2          None  \n",
       "3        jodane  \n",
       "4          None  \n",
       "...         ...  \n",
       "19995  glenmore  \n",
       "19996      None  \n",
       "19997      None  \n",
       "19998      None  \n",
       "19999      None  \n",
       "\n",
       "[20000 rows x 12 columns]"
      ]
     },
     "execution_count": 20,
     "metadata": {},
     "output_type": "execute_result"
    }
   ],
   "source": [
    "#display df_patient_cleaned\n",
    "df_patient_cleaned"
   ]
  },
  {
   "cell_type": "code",
   "execution_count": 21,
   "metadata": {},
   "outputs": [
    {
     "name": "stdout",
     "output_type": "stream",
     "text": [
      "<class 'pandas.core.frame.DataFrame'>\n",
      "RangeIndex: 20000 entries, 0 to 19999\n",
      "Data columns (total 12 columns):\n",
      " #   Column         Non-Null Count  Dtype  \n",
      "---  ------         --------------  -----  \n",
      " 0   patient_id     20000 non-null  int64  \n",
      " 1   given_name     19560 non-null  object \n",
      " 2   surname        19575 non-null  object \n",
      " 3   street_number  19618 non-null  float64\n",
      " 4   address_1      19204 non-null  object \n",
      " 5   suburb         19788 non-null  object \n",
      " 6   postcode       19801 non-null  object \n",
      " 7   state          18010 non-null  object \n",
      " 8   date_of_birth  17989 non-null  float64\n",
      " 9   age            16003 non-null  float64\n",
      " 10  phone_number   19081 non-null  object \n",
      " 11  address_2      7893 non-null   object \n",
      "dtypes: float64(3), int64(1), object(8)\n",
      "memory usage: 1.8+ MB\n"
     ]
    }
   ],
   "source": [
    "#get df_patient info\n",
    "df_patient_cleaned.info()"
   ]
  },
  {
   "cell_type": "code",
   "execution_count": 22,
   "metadata": {},
   "outputs": [
    {
     "data": {
      "text/html": [
       "<div>\n",
       "<style scoped>\n",
       "    .dataframe tbody tr th:only-of-type {\n",
       "        vertical-align: middle;\n",
       "    }\n",
       "\n",
       "    .dataframe tbody tr th {\n",
       "        vertical-align: top;\n",
       "    }\n",
       "\n",
       "    .dataframe thead th {\n",
       "        text-align: right;\n",
       "    }\n",
       "</style>\n",
       "<table border=\"1\" class=\"dataframe\">\n",
       "  <thead>\n",
       "    <tr style=\"text-align: right;\">\n",
       "      <th></th>\n",
       "      <th>patient_id</th>\n",
       "      <th>street_number</th>\n",
       "      <th>date_of_birth</th>\n",
       "      <th>age</th>\n",
       "    </tr>\n",
       "  </thead>\n",
       "  <tbody>\n",
       "    <tr>\n",
       "      <th>count</th>\n",
       "      <td>20000.000000</td>\n",
       "      <td>19618.000000</td>\n",
       "      <td>1.798900e+04</td>\n",
       "      <td>16003.000000</td>\n",
       "    </tr>\n",
       "    <tr>\n",
       "      <th>mean</th>\n",
       "      <td>549103.403600</td>\n",
       "      <td>98.812468</td>\n",
       "      <td>1.949638e+07</td>\n",
       "      <td>27.534337</td>\n",
       "    </tr>\n",
       "    <tr>\n",
       "      <th>std</th>\n",
       "      <td>263073.145139</td>\n",
       "      <td>2481.908686</td>\n",
       "      <td>2.926916e+05</td>\n",
       "      <td>7.807008</td>\n",
       "    </tr>\n",
       "    <tr>\n",
       "      <th>min</th>\n",
       "      <td>79502.000000</td>\n",
       "      <td>0.000000</td>\n",
       "      <td>1.290041e+07</td>\n",
       "      <td>0.000000</td>\n",
       "    </tr>\n",
       "    <tr>\n",
       "      <th>25%</th>\n",
       "      <td>322080.750000</td>\n",
       "      <td>10.000000</td>\n",
       "      <td>1.924113e+07</td>\n",
       "      <td>24.000000</td>\n",
       "    </tr>\n",
       "    <tr>\n",
       "      <th>50%</th>\n",
       "      <td>552055.500000</td>\n",
       "      <td>24.000000</td>\n",
       "      <td>1.950032e+07</td>\n",
       "      <td>29.000000</td>\n",
       "    </tr>\n",
       "    <tr>\n",
       "      <th>75%</th>\n",
       "      <td>777125.500000</td>\n",
       "      <td>60.000000</td>\n",
       "      <td>1.975052e+07</td>\n",
       "      <td>33.000000</td>\n",
       "    </tr>\n",
       "    <tr>\n",
       "      <th>max</th>\n",
       "      <td>999993.000000</td>\n",
       "      <td>342951.000000</td>\n",
       "      <td>1.999123e+07</td>\n",
       "      <td>92.000000</td>\n",
       "    </tr>\n",
       "  </tbody>\n",
       "</table>\n",
       "</div>"
      ],
      "text/plain": [
       "          patient_id  street_number  date_of_birth           age\n",
       "count   20000.000000   19618.000000   1.798900e+04  16003.000000\n",
       "mean   549103.403600      98.812468   1.949638e+07     27.534337\n",
       "std    263073.145139    2481.908686   2.926916e+05      7.807008\n",
       "min     79502.000000       0.000000   1.290041e+07      0.000000\n",
       "25%    322080.750000      10.000000   1.924113e+07     24.000000\n",
       "50%    552055.500000      24.000000   1.950032e+07     29.000000\n",
       "75%    777125.500000      60.000000   1.975052e+07     33.000000\n",
       "max    999993.000000  342951.000000   1.999123e+07     92.000000"
      ]
     },
     "execution_count": 22,
     "metadata": {},
     "output_type": "execute_result"
    }
   ],
   "source": [
    "#get statistical analysis on df_patient\n",
    "df_patient_cleaned.describe()"
   ]
  },
  {
   "cell_type": "code",
   "execution_count": 23,
   "metadata": {},
   "outputs": [
    {
     "data": {
      "text/plain": [
       "patient_id       20000\n",
       "given_name        1171\n",
       "surname           4273\n",
       "street_number      834\n",
       "address_1         4326\n",
       "suburb            2915\n",
       "postcode          2009\n",
       "state              102\n",
       "date_of_birth    13654\n",
       "age                 58\n",
       "phone_number     17916\n",
       "address_2         3460\n",
       "dtype: int64"
      ]
     },
     "execution_count": 23,
     "metadata": {},
     "output_type": "execute_result"
    }
   ],
   "source": [
    "#get nunique values\n",
    "df_patient_cleaned.nunique()"
   ]
  },
  {
   "cell_type": "markdown",
   "metadata": {},
   "source": [
    "# Apply dedupe algorithm on our dataframe after cleaning"
   ]
  },
  {
   "cell_type": "code",
   "execution_count": 25,
   "metadata": {
    "collapsed": true,
    "jupyter": {
     "outputs_hidden": true
    }
   },
   "outputs": [
    {
     "name": "stdout",
     "output_type": "stream",
     "text": [
      "Importing data ...\n"
     ]
    },
    {
     "name": "stderr",
     "output_type": "stream",
     "text": [
      "given_name : matthew\n",
      "surname : leesong\n",
      "street_number : None\n",
      "suburb : None\n",
      "phone_number : 0365791334\n",
      "\n",
      "given_name : matthew\n",
      "surname : leesong\n",
      "street_number : None\n",
      "suburb : None\n",
      "phone_number : 0365791334\n",
      "\n",
      "0/10 positive, 0/10 negative\n",
      "Do these records refer to the same thing?\n",
      "(y)es / (n)o / (u)nsure / (f)inished\n"
     ]
    },
    {
     "name": "stdout",
     "output_type": "stream",
     "text": [
      "Starting active labeling...\n"
     ]
    },
    {
     "name": "stdin",
     "output_type": "stream",
     "text": [
      " y\n"
     ]
    },
    {
     "name": "stderr",
     "output_type": "stream",
     "text": [
      "given_name : mathew\n",
      "surname : teague\n",
      "street_number : 11.0\n",
      "suburb : None\n",
      "phone_number : 0419702338\n",
      "\n",
      "given_name : matthew\n",
      "surname : teague\n",
      "street_number : 11.0\n",
      "suburb : None\n",
      "phone_number : 0419702338\n",
      "\n",
      "1/10 positive, 0/10 negative\n",
      "Do these records refer to the same thing?\n",
      "(y)es / (n)o / (u)nsure / (f)inished / (p)revious\n"
     ]
    },
    {
     "name": "stdin",
     "output_type": "stream",
     "text": [
      " y\n"
     ]
    },
    {
     "name": "stderr",
     "output_type": "stream",
     "text": [
      "given_name : kane\n",
      "surname : mccloskey\n",
      "street_number : None\n",
      "suburb : sunshine\n",
      "phone_number : 0806129366\n",
      "\n",
      "given_name : kane\n",
      "surname : mccloskey\n",
      "street_number : 18.0\n",
      "suburb : sunshine\n",
      "phone_number : 0806129366\n",
      "\n",
      "2/10 positive, 0/10 negative\n",
      "Do these records refer to the same thing?\n",
      "(y)es / (n)o / (u)nsure / (f)inished / (p)revious\n"
     ]
    },
    {
     "name": "stdin",
     "output_type": "stream",
     "text": [
      " y\n"
     ]
    },
    {
     "name": "stderr",
     "output_type": "stream",
     "text": [
      "given_name : james\n",
      "surname : None\n",
      "street_number : 42.0\n",
      "suburb : wilson\n",
      "phone_number : 0203755662\n",
      "\n",
      "given_name : jim\n",
      "surname : None\n",
      "street_number : 42.0\n",
      "suburb : wilson\n",
      "phone_number : 0203755662\n",
      "\n",
      "3/10 positive, 0/10 negative\n",
      "Do these records refer to the same thing?\n",
      "(y)es / (n)o / (u)nsure / (f)inished / (p)revious\n"
     ]
    },
    {
     "name": "stdin",
     "output_type": "stream",
     "text": [
      " y\n"
     ]
    },
    {
     "name": "stderr",
     "output_type": "stream",
     "text": [
      "given_name : casey\n",
      "surname : None\n",
      "street_number : 17.0\n",
      "suburb : figtree\n",
      "phone_number : 0836636317\n",
      "\n",
      "given_name : casey\n",
      "surname : None\n",
      "street_number : 17.0\n",
      "suburb : figtree\n",
      "phone_number : 0836636317\n",
      "\n",
      "4/10 positive, 0/10 negative\n",
      "Do these records refer to the same thing?\n",
      "(y)es / (n)o / (u)nsure / (f)inished / (p)revious\n"
     ]
    },
    {
     "name": "stdin",
     "output_type": "stream",
     "text": [
      " y\n"
     ]
    },
    {
     "name": "stderr",
     "output_type": "stream",
     "text": [
      "given_name : None\n",
      "surname : fitzpatrick\n",
      "street_number : 4.0\n",
      "suburb : russell lea\n",
      "phone_number : 0417727347\n",
      "\n",
      "given_name : None\n",
      "surname : fitzpatrick\n",
      "street_number : 4.0\n",
      "suburb : russell lea\n",
      "phone_number : 0417727347\n",
      "\n",
      "5/10 positive, 0/10 negative\n",
      "Do these records refer to the same thing?\n",
      "(y)es / (n)o / (u)nsure / (f)inished / (p)revious\n"
     ]
    },
    {
     "name": "stdin",
     "output_type": "stream",
     "text": [
      " y\n"
     ]
    },
    {
     "name": "stderr",
     "output_type": "stream",
     "text": [
      "given_name : None\n",
      "surname : eglinton\n",
      "street_number : 12.0\n",
      "suburb : surry hills\n",
      "phone_number : 0249550430\n",
      "\n",
      "given_name : None\n",
      "surname : eglinton\n",
      "street_number : 12.0\n",
      "suburb : surry hill\n",
      "phone_number : 0249550430\n",
      "\n",
      "6/10 positive, 0/10 negative\n",
      "Do these records refer to the same thing?\n",
      "(y)es / (n)o / (u)nsure / (f)inished / (p)revious\n"
     ]
    },
    {
     "name": "stdin",
     "output_type": "stream",
     "text": [
      " y\n"
     ]
    },
    {
     "name": "stderr",
     "output_type": "stream",
     "text": [
      "given_name : nichols\n",
      "surname : green\n",
      "street_number : 29.0\n",
      "suburb : wongan hills east\n",
      "phone_number : 0382234967\n",
      "\n",
      "given_name : nicholas\n",
      "surname : green\n",
      "street_number : 29.0\n",
      "suburb : wongan hills east\n",
      "phone_number : 0382232967\n",
      "\n",
      "7/10 positive, 0/10 negative\n",
      "Do these records refer to the same thing?\n",
      "(y)es / (n)o / (u)nsure / (f)inished / (p)revious\n"
     ]
    },
    {
     "name": "stdin",
     "output_type": "stream",
     "text": [
      " y\n"
     ]
    },
    {
     "name": "stderr",
     "output_type": "stream",
     "text": [
      "given_name : raquel\n",
      "surname : coleman\n",
      "street_number : 19.0\n",
      "suburb : ormond\n",
      "phone_number : None\n",
      "\n",
      "given_name : james\n",
      "surname : coleman\n",
      "street_number : 28.0\n",
      "suburb : None\n",
      "phone_number : 0227404913\n",
      "\n",
      "8/10 positive, 0/10 negative\n",
      "Do these records refer to the same thing?\n",
      "(y)es / (n)o / (u)nsure / (f)inished / (p)revious\n"
     ]
    },
    {
     "name": "stdin",
     "output_type": "stream",
     "text": [
      " u\n"
     ]
    },
    {
     "name": "stderr",
     "output_type": "stream",
     "text": [
      "given_name : nikki\n",
      "surname : None\n",
      "street_number : 38.0\n",
      "suburb : None\n",
      "phone_number : 0294305990\n",
      "\n",
      "given_name : jade\n",
      "surname : chou\n",
      "street_number : 48.0\n",
      "suburb : frenchs forest\n",
      "phone_number : 0349205990\n",
      "\n",
      "8/10 positive, 0/10 negative\n",
      "Do these records refer to the same thing?\n",
      "(y)es / (n)o / (u)nsure / (f)inished / (p)revious\n"
     ]
    },
    {
     "name": "stdin",
     "output_type": "stream",
     "text": [
      " n\n"
     ]
    },
    {
     "name": "stderr",
     "output_type": "stream",
     "text": [
      "given_name : anna\n",
      "surname : mason\n",
      "street_number : 136.0\n",
      "suburb : somerton park\n",
      "phone_number : 0464903961\n",
      "\n",
      "given_name : anna\n",
      "surname : mason\n",
      "street_number : 133.0\n",
      "suburb : somerton park\n",
      "phone_number : 0464903061\n",
      "\n",
      "8/10 positive, 1/10 negative\n",
      "Do these records refer to the same thing?\n",
      "(y)es / (n)o / (u)nsure / (f)inished / (p)revious\n"
     ]
    },
    {
     "name": "stdin",
     "output_type": "stream",
     "text": [
      " y\n"
     ]
    },
    {
     "name": "stderr",
     "output_type": "stream",
     "text": [
      "given_name : None\n",
      "surname : green\n",
      "street_number : None\n",
      "suburb : fish creek\n",
      "phone_number : None\n",
      "\n",
      "given_name : tynan\n",
      "surname : green\n",
      "street_number : 123.0\n",
      "suburb : wantirna\n",
      "phone_number : 0368618136\n",
      "\n",
      "9/10 positive, 1/10 negative\n",
      "Do these records refer to the same thing?\n",
      "(y)es / (n)o / (u)nsure / (f)inished / (p)revious\n"
     ]
    },
    {
     "name": "stdin",
     "output_type": "stream",
     "text": [
      " u\n"
     ]
    },
    {
     "name": "stderr",
     "output_type": "stream",
     "text": [
      "given_name : jack\n",
      "surname : crisci\n",
      "street_number : 2.0\n",
      "suburb : newstead\n",
      "phone_number : 0847719598\n",
      "\n",
      "given_name : jack\n",
      "surname : crisci\n",
      "street_number : 1.0\n",
      "suburb : newstead\n",
      "phone_number : 0847714598\n",
      "\n",
      "9/10 positive, 1/10 negative\n",
      "Do these records refer to the same thing?\n",
      "(y)es / (n)o / (u)nsure / (f)inished / (p)revious\n"
     ]
    },
    {
     "name": "stdin",
     "output_type": "stream",
     "text": [
      " y\n"
     ]
    },
    {
     "name": "stderr",
     "output_type": "stream",
     "text": [
      "given_name : kyle\n",
      "surname : fitzpatrick\n",
      "street_number : 3.0\n",
      "suburb : burleigh waters\n",
      "phone_number : 0886028364\n",
      "\n",
      "given_name : None\n",
      "surname : godfrey\n",
      "street_number : 35.0\n",
      "suburb : burleigh waters\n",
      "phone_number : None\n",
      "\n",
      "10/10 positive, 1/10 negative\n",
      "Do these records refer to the same thing?\n",
      "(y)es / (n)o / (u)nsure / (f)inished / (p)revious\n"
     ]
    },
    {
     "name": "stdin",
     "output_type": "stream",
     "text": [
      " n\n"
     ]
    },
    {
     "name": "stderr",
     "output_type": "stream",
     "text": [
      "given_name : brianna\n",
      "surname : stephenson\n",
      "street_number : 23.0\n",
      "suburb : st kilda east\n",
      "phone_number : None\n",
      "\n",
      "given_name : None\n",
      "surname : novitski\n",
      "street_number : 3.0\n",
      "suburb : st kilda east\n",
      "phone_number : 0335003032\n",
      "\n",
      "10/10 positive, 2/10 negative\n",
      "Do these records refer to the same thing?\n",
      "(y)es / (n)o / (u)nsure / (f)inished / (p)revious\n"
     ]
    },
    {
     "name": "stdin",
     "output_type": "stream",
     "text": [
      " n\n"
     ]
    },
    {
     "name": "stderr",
     "output_type": "stream",
     "text": [
      "given_name : nicholas\n",
      "surname : None\n",
      "street_number : 157.0\n",
      "suburb : wangi wangi\n",
      "phone_number : 0411527081\n",
      "\n",
      "given_name : None\n",
      "surname : auman\n",
      "street_number : 157.0\n",
      "suburb : clayton\n",
      "phone_number : 0741178206\n",
      "\n",
      "10/10 positive, 3/10 negative\n",
      "Do these records refer to the same thing?\n",
      "(y)es / (n)o / (u)nsure / (f)inished / (p)revious\n"
     ]
    },
    {
     "name": "stdin",
     "output_type": "stream",
     "text": [
      " n\n"
     ]
    },
    {
     "name": "stderr",
     "output_type": "stream",
     "text": [
      "given_name : michaela\n",
      "surname : None\n",
      "street_number : 34.0\n",
      "suburb : leongatha\n",
      "phone_number : 0275740490\n",
      "\n",
      "given_name : michael\n",
      "surname : None\n",
      "street_number : None\n",
      "suburb : coombabah\n",
      "phone_number : 0444820562\n",
      "\n",
      "10/10 positive, 4/10 negative\n",
      "Do these records refer to the same thing?\n",
      "(y)es / (n)o / (u)nsure / (f)inished / (p)revious\n"
     ]
    },
    {
     "name": "stdin",
     "output_type": "stream",
     "text": [
      " n\n"
     ]
    },
    {
     "name": "stderr",
     "output_type": "stream",
     "text": [
      "given_name : jayden\n",
      "surname : tmokign\n",
      "street_number : 32.0\n",
      "suburb : buffxalo\n",
      "phone_number : 0711820917\n",
      "\n",
      "given_name : jayden\n",
      "surname : tomkin\n",
      "street_number : 32.0\n",
      "suburb : buffalo\n",
      "phone_number : 0711820917\n",
      "\n",
      "10/10 positive, 5/10 negative\n",
      "Do these records refer to the same thing?\n",
      "(y)es / (n)o / (u)nsure / (f)inished / (p)revious\n"
     ]
    },
    {
     "name": "stdin",
     "output_type": "stream",
     "text": [
      " y\n"
     ]
    },
    {
     "name": "stderr",
     "output_type": "stream",
     "text": [
      "given_name : teegan\n",
      "surname : pettipgill\n",
      "street_number : 7.0\n",
      "suburb : st kilda\n",
      "phone_number : 0702141678\n",
      "\n",
      "given_name : teenan\n",
      "surname : pettingill\n",
      "street_number : 81.0\n",
      "suburb : st kilda\n",
      "phone_number : 0702141678\n",
      "\n",
      "11/10 positive, 5/10 negative\n",
      "Do these records refer to the same thing?\n",
      "(y)es / (n)o / (u)nsure / (f)inished / (p)revious\n"
     ]
    },
    {
     "name": "stdin",
     "output_type": "stream",
     "text": [
      " y\n"
     ]
    },
    {
     "name": "stderr",
     "output_type": "stream",
     "text": [
      "given_name : willuam\n",
      "surname : white\n",
      "street_number : 42.0\n",
      "suburb : carlingfword\n",
      "phone_number : 0389262726\n",
      "\n",
      "given_name : william\n",
      "surname : white\n",
      "street_number : 24.0\n",
      "suburb : carlintnford\n",
      "phone_number : 0389262726\n",
      "\n",
      "12/10 positive, 5/10 negative\n",
      "Do these records refer to the same thing?\n",
      "(y)es / (n)o / (u)nsure / (f)inished / (p)revious\n"
     ]
    },
    {
     "name": "stdin",
     "output_type": "stream",
     "text": [
      " y\n"
     ]
    },
    {
     "name": "stderr",
     "output_type": "stream",
     "text": [
      "given_name : tiana\n",
      "surname : ryan\n",
      "street_number : 17.0\n",
      "suburb : kirrawee\n",
      "phone_number : None\n",
      "\n",
      "given_name : None\n",
      "surname : None\n",
      "street_number : 20.0\n",
      "suburb : cooroy\n",
      "phone_number : 0316641630\n",
      "\n",
      "13/10 positive, 5/10 negative\n",
      "Do these records refer to the same thing?\n",
      "(y)es / (n)o / (u)nsure / (f)inished / (p)revious\n"
     ]
    },
    {
     "name": "stdin",
     "output_type": "stream",
     "text": [
      " n\n"
     ]
    },
    {
     "name": "stderr",
     "output_type": "stream",
     "text": [
      "given_name : None\n",
      "surname : nguyen\n",
      "street_number : 163.0\n",
      "suburb : bute\n",
      "phone_number : 0366357746\n",
      "\n",
      "given_name : julia\n",
      "surname : nguyen\n",
      "street_number : 12.0\n",
      "suburb : beaumont\n",
      "phone_number : None\n",
      "\n",
      "13/10 positive, 6/10 negative\n",
      "Do these records refer to the same thing?\n",
      "(y)es / (n)o / (u)nsure / (f)inished / (p)revious\n"
     ]
    },
    {
     "name": "stdin",
     "output_type": "stream",
     "text": [
      " u\n"
     ]
    },
    {
     "name": "stderr",
     "output_type": "stream",
     "text": [
      "given_name : nicholas\n",
      "surname : talladira\n",
      "street_number : 52.0\n",
      "suburb : ascot vale\n",
      "phone_number : None\n",
      "\n",
      "given_name : talia\n",
      "surname : None\n",
      "street_number : 2080.0\n",
      "suburb : ascot vale\n",
      "phone_number : None\n",
      "\n",
      "13/10 positive, 6/10 negative\n",
      "Do these records refer to the same thing?\n",
      "(y)es / (n)o / (u)nsure / (f)inished / (p)revious\n"
     ]
    },
    {
     "name": "stdin",
     "output_type": "stream",
     "text": [
      " n\n"
     ]
    },
    {
     "name": "stderr",
     "output_type": "stream",
     "text": [
      "given_name : ethan\n",
      "surname : blake\n",
      "street_number : 29.0\n",
      "suburb : ingleowd\n",
      "phone_number : 0400020311\n",
      "\n",
      "given_name : et ha\n",
      "surname : blake\n",
      "street_number : 29.0\n",
      "suburb : inglewood\n",
      "phone_number : 0400020311\n",
      "\n",
      "13/10 positive, 7/10 negative\n",
      "Do these records refer to the same thing?\n",
      "(y)es / (n)o / (u)nsure / (f)inished / (p)revious\n"
     ]
    },
    {
     "name": "stdin",
     "output_type": "stream",
     "text": [
      " y\n"
     ]
    },
    {
     "name": "stderr",
     "output_type": "stream",
     "text": [
      "given_name : macormack\n",
      "surname : ryan\n",
      "street_number : 7.0\n",
      "suburb : burnside\n",
      "phone_number : 0735367744\n",
      "\n",
      "given_name : macormack\n",
      "surname : rynan\n",
      "street_number : 80.0\n",
      "suburb : burnside\n",
      "phone_number : 0735367744\n",
      "\n",
      "14/10 positive, 7/10 negative\n",
      "Do these records refer to the same thing?\n",
      "(y)es / (n)o / (u)nsure / (f)inished / (p)revious\n"
     ]
    },
    {
     "name": "stdin",
     "output_type": "stream",
     "text": [
      " y\n"
     ]
    },
    {
     "name": "stderr",
     "output_type": "stream",
     "text": [
      "given_name : lucy\n",
      "surname : bollen\n",
      "street_number : 39.0\n",
      "suburb : warburton east\n",
      "phone_number : 0393629463\n",
      "\n",
      "given_name : lucy\n",
      "surname : webbr\n",
      "street_number : 39.0\n",
      "suburb : warburton east\n",
      "phone_number : 0393629463\n",
      "\n",
      "15/10 positive, 7/10 negative\n",
      "Do these records refer to the same thing?\n",
      "(y)es / (n)o / (u)nsure / (f)inished / (p)revious\n"
     ]
    },
    {
     "name": "stdin",
     "output_type": "stream",
     "text": [
      " y\n"
     ]
    },
    {
     "name": "stderr",
     "output_type": "stream",
     "text": [
      "given_name : jpel\n",
      "surname : morrison\n",
      "street_number : 48.0\n",
      "suburb : nairne\n",
      "phone_number : 0841912280\n",
      "\n",
      "given_name : joel\n",
      "surname : morrison\n",
      "street_number : 84.0\n",
      "suburb : naine\n",
      "phone_number : 0841912280\n",
      "\n",
      "16/10 positive, 7/10 negative\n",
      "Do these records refer to the same thing?\n",
      "(y)es / (n)o / (u)nsure / (f)inished / (p)revious\n"
     ]
    },
    {
     "name": "stdin",
     "output_type": "stream",
     "text": [
      " y\n"
     ]
    },
    {
     "name": "stderr",
     "output_type": "stream",
     "text": [
      "given_name : sam\n",
      "surname : white\n",
      "street_number : 5.0\n",
      "suburb : None\n",
      "phone_number : 0832408468\n",
      "\n",
      "given_name : benjamin\n",
      "surname : None\n",
      "street_number : 5.0\n",
      "suburb : altona north\n",
      "phone_number : 0401037305\n",
      "\n",
      "17/10 positive, 7/10 negative\n",
      "Do these records refer to the same thing?\n",
      "(y)es / (n)o / (u)nsure / (f)inished / (p)revious\n"
     ]
    },
    {
     "name": "stdin",
     "output_type": "stream",
     "text": [
      " n\n"
     ]
    },
    {
     "name": "stderr",
     "output_type": "stream",
     "text": [
      "given_name : louis\n",
      "surname : blackwell\n",
      "street_number : 10.0\n",
      "suburb : bibra lake\n",
      "phone_number : 0297010866\n",
      "\n",
      "given_name : louis\n",
      "surname : blackwell\n",
      "street_number : 10.0\n",
      "suburb : lake bibra\n",
      "phone_number : 0297010866\n",
      "\n",
      "17/10 positive, 8/10 negative\n",
      "Do these records refer to the same thing?\n",
      "(y)es / (n)o / (u)nsure / (f)inished / (p)revious\n"
     ]
    },
    {
     "name": "stdin",
     "output_type": "stream",
     "text": [
      " y\n"
     ]
    },
    {
     "name": "stderr",
     "output_type": "stream",
     "text": [
      "given_name : matthew\n",
      "surname : white\n",
      "street_number : None\n",
      "suburb : north sydney\n",
      "phone_number : 0793690529\n",
      "\n",
      "given_name : matthew\n",
      "surname : wht\n",
      "street_number : None\n",
      "suburb : midvale\n",
      "phone_number : 0793690529\n",
      "\n",
      "18/10 positive, 8/10 negative\n",
      "Do these records refer to the same thing?\n",
      "(y)es / (n)o / (u)nsure / (f)inished / (p)revious\n"
     ]
    },
    {
     "name": "stdin",
     "output_type": "stream",
     "text": [
      " y\n"
     ]
    },
    {
     "name": "stderr",
     "output_type": "stream",
     "text": [
      "given_name : sam\n",
      "surname : bagusauskas\n",
      "street_number : 23.0\n",
      "suburb : malvern\n",
      "phone_number : 0742598194\n",
      "\n",
      "given_name : dominic\n",
      "surname : basedow\n",
      "street_number : 29.0\n",
      "suburb : malvern\n",
      "phone_number : None\n",
      "\n",
      "19/10 positive, 8/10 negative\n",
      "Do these records refer to the same thing?\n",
      "(y)es / (n)o / (u)nsure / (f)inished / (p)revious\n"
     ]
    },
    {
     "name": "stdin",
     "output_type": "stream",
     "text": [
      " n\n"
     ]
    },
    {
     "name": "stderr",
     "output_type": "stream",
     "text": [
      "given_name : cassandra\n",
      "surname : None\n",
      "street_number : 2.0\n",
      "suburb : ardeer\n",
      "phone_number : 0231105312\n",
      "\n",
      "given_name : seth\n",
      "surname : galinec\n",
      "street_number : 2.0\n",
      "suburb : montmorency\n",
      "phone_number : None\n",
      "\n",
      "19/10 positive, 9/10 negative\n",
      "Do these records refer to the same thing?\n",
      "(y)es / (n)o / (u)nsure / (f)inished / (p)revious\n"
     ]
    },
    {
     "name": "stdin",
     "output_type": "stream",
     "text": [
      " n\n"
     ]
    },
    {
     "name": "stderr",
     "output_type": "stream",
     "text": [
      "given_name : None\n",
      "surname : carmody\n",
      "street_number : 50.0\n",
      "suburb : judds creek\n",
      "phone_number : 0215329528\n",
      "\n",
      "given_name : courtney\n",
      "surname : carmody\n",
      "street_number : 13.0\n",
      "suburb : waterloo corner\n",
      "phone_number : None\n",
      "\n",
      "19/10 positive, 10/10 negative\n",
      "Do these records refer to the same thing?\n",
      "(y)es / (n)o / (u)nsure / (f)inished / (p)revious\n"
     ]
    },
    {
     "name": "stdin",
     "output_type": "stream",
     "text": [
      " f\n"
     ]
    },
    {
     "name": "stderr",
     "output_type": "stream",
     "text": [
      "Finished labeling\n"
     ]
    },
    {
     "name": "stdout",
     "output_type": "stream",
     "text": [
      "Clustering...\n",
      "# duplicate sets 18888\n"
     ]
    }
   ],
   "source": [
    "#remove duplicates based on ['given_name', 'surname', 'street_number','suburb','phone_number','suburb'] columns\n",
    "df_final = pandas_dedupe.dedupe_dataframe(df_patient_cleaned,['given_name', 'surname', 'street_number','suburb','phone_number','suburb'])"
   ]
  },
  {
   "cell_type": "markdown",
   "metadata": {},
   "source": [
    "En faisant labeliser minimum 10 recors positives et négatives et parès l'entrainement l'algorithme a detetcté environ 1112 données dupliqués ce qui n'est pas loin de mes résultats"
   ]
  },
  {
   "cell_type": "code",
   "execution_count": 26,
   "metadata": {},
   "outputs": [
    {
     "data": {
      "text/html": [
       "<div>\n",
       "<style scoped>\n",
       "    .dataframe tbody tr th:only-of-type {\n",
       "        vertical-align: middle;\n",
       "    }\n",
       "\n",
       "    .dataframe tbody tr th {\n",
       "        vertical-align: top;\n",
       "    }\n",
       "\n",
       "    .dataframe thead th {\n",
       "        text-align: right;\n",
       "    }\n",
       "</style>\n",
       "<table border=\"1\" class=\"dataframe\">\n",
       "  <thead>\n",
       "    <tr style=\"text-align: right;\">\n",
       "      <th></th>\n",
       "      <th>patient_id</th>\n",
       "      <th>given_name</th>\n",
       "      <th>surname</th>\n",
       "      <th>street_number</th>\n",
       "      <th>address_1</th>\n",
       "      <th>suburb</th>\n",
       "      <th>postcode</th>\n",
       "      <th>state</th>\n",
       "      <th>date_of_birth</th>\n",
       "      <th>age</th>\n",
       "      <th>phone_number</th>\n",
       "      <th>address_2</th>\n",
       "      <th>cluster id</th>\n",
       "      <th>confidence</th>\n",
       "    </tr>\n",
       "  </thead>\n",
       "  <tbody>\n",
       "    <tr>\n",
       "      <th>0</th>\n",
       "      <td>221958</td>\n",
       "      <td>matisse</td>\n",
       "      <td>clarke</td>\n",
       "      <td>13.0</td>\n",
       "      <td>rene street</td>\n",
       "      <td>ellenbrook</td>\n",
       "      <td>2527</td>\n",
       "      <td>wa</td>\n",
       "      <td>19710708.0</td>\n",
       "      <td>32.0</td>\n",
       "      <td>0886018809</td>\n",
       "      <td>westella</td>\n",
       "      <td>669</td>\n",
       "      <td>1.0</td>\n",
       "    </tr>\n",
       "    <tr>\n",
       "      <th>1</th>\n",
       "      <td>771155</td>\n",
       "      <td>joshua</td>\n",
       "      <td>elrick</td>\n",
       "      <td>23.0</td>\n",
       "      <td>andrea place</td>\n",
       "      <td>east preston</td>\n",
       "      <td>2074</td>\n",
       "      <td>nsw</td>\n",
       "      <td>19120921.0</td>\n",
       "      <td>34.0</td>\n",
       "      <td>0297793152</td>\n",
       "      <td>foxdown</td>\n",
       "      <td>670</td>\n",
       "      <td>1.0</td>\n",
       "    </tr>\n",
       "    <tr>\n",
       "      <th>2</th>\n",
       "      <td>231932</td>\n",
       "      <td>alice</td>\n",
       "      <td>conboy</td>\n",
       "      <td>35.0</td>\n",
       "      <td>mountain circuit</td>\n",
       "      <td>prospect</td>\n",
       "      <td>2305</td>\n",
       "      <td>nsw</td>\n",
       "      <td>19810905.0</td>\n",
       "      <td>22.0</td>\n",
       "      <td>0220403934</td>\n",
       "      <td>None</td>\n",
       "      <td>671</td>\n",
       "      <td>1.0</td>\n",
       "    </tr>\n",
       "    <tr>\n",
       "      <th>3</th>\n",
       "      <td>465838</td>\n",
       "      <td>sienna</td>\n",
       "      <td>craswell</td>\n",
       "      <td>39.0</td>\n",
       "      <td>cumberlegeicrescent</td>\n",
       "      <td>henty</td>\n",
       "      <td>3620</td>\n",
       "      <td>wa</td>\n",
       "      <td>19840809.0</td>\n",
       "      <td>30.0</td>\n",
       "      <td>0262832318</td>\n",
       "      <td>jodane</td>\n",
       "      <td>0</td>\n",
       "      <td>1.0</td>\n",
       "    </tr>\n",
       "    <tr>\n",
       "      <th>4</th>\n",
       "      <td>359178</td>\n",
       "      <td>joshua</td>\n",
       "      <td>bastiaans</td>\n",
       "      <td>144.0</td>\n",
       "      <td>lowrie street</td>\n",
       "      <td>campbell town</td>\n",
       "      <td>4051</td>\n",
       "      <td>nsw</td>\n",
       "      <td>19340430.0</td>\n",
       "      <td>31.0</td>\n",
       "      <td>0369359594</td>\n",
       "      <td>None</td>\n",
       "      <td>672</td>\n",
       "      <td>1.0</td>\n",
       "    </tr>\n",
       "    <tr>\n",
       "      <th>...</th>\n",
       "      <td>...</td>\n",
       "      <td>...</td>\n",
       "      <td>...</td>\n",
       "      <td>...</td>\n",
       "      <td>...</td>\n",
       "      <td>...</td>\n",
       "      <td>...</td>\n",
       "      <td>...</td>\n",
       "      <td>...</td>\n",
       "      <td>...</td>\n",
       "      <td>...</td>\n",
       "      <td>...</td>\n",
       "      <td>...</td>\n",
       "      <td>...</td>\n",
       "    </tr>\n",
       "    <tr>\n",
       "      <th>19995</th>\n",
       "      <td>368617</td>\n",
       "      <td>abby</td>\n",
       "      <td>None</td>\n",
       "      <td>19.0</td>\n",
       "      <td>john cleland crescent</td>\n",
       "      <td>boyne island</td>\n",
       "      <td>2290</td>\n",
       "      <td>nsw</td>\n",
       "      <td>19570210.0</td>\n",
       "      <td>None</td>\n",
       "      <td>0292489054</td>\n",
       "      <td>glenmore</td>\n",
       "      <td>18883</td>\n",
       "      <td>1.0</td>\n",
       "    </tr>\n",
       "    <tr>\n",
       "      <th>19996</th>\n",
       "      <td>796658</td>\n",
       "      <td>dale</td>\n",
       "      <td>priest</td>\n",
       "      <td>19.0</td>\n",
       "      <td>bellchambers crescent</td>\n",
       "      <td>hoppers crossing</td>\n",
       "      <td>3033</td>\n",
       "      <td>wa</td>\n",
       "      <td>19590619.0</td>\n",
       "      <td>31.0</td>\n",
       "      <td>0720549476</td>\n",
       "      <td>None</td>\n",
       "      <td>18884</td>\n",
       "      <td>1.0</td>\n",
       "    </tr>\n",
       "    <tr>\n",
       "      <th>19997</th>\n",
       "      <td>511885</td>\n",
       "      <td>alessia</td>\n",
       "      <td>mawlai</td>\n",
       "      <td>4.0</td>\n",
       "      <td>miller street</td>\n",
       "      <td>smithfield</td>\n",
       "      <td>3616</td>\n",
       "      <td>tas</td>\n",
       "      <td>None</td>\n",
       "      <td>26.0</td>\n",
       "      <td>0383466737</td>\n",
       "      <td>None</td>\n",
       "      <td>18885</td>\n",
       "      <td>1.0</td>\n",
       "    </tr>\n",
       "    <tr>\n",
       "      <th>19998</th>\n",
       "      <td>985932</td>\n",
       "      <td>hannah</td>\n",
       "      <td>mason</td>\n",
       "      <td>1.0</td>\n",
       "      <td>halligan place</td>\n",
       "      <td>beaumaris</td>\n",
       "      <td>2443</td>\n",
       "      <td>wa</td>\n",
       "      <td>19140304.0</td>\n",
       "      <td>25.0</td>\n",
       "      <td>0441125514</td>\n",
       "      <td>None</td>\n",
       "      <td>18886</td>\n",
       "      <td>1.0</td>\n",
       "    </tr>\n",
       "    <tr>\n",
       "      <th>19999</th>\n",
       "      <td>925217</td>\n",
       "      <td>jack</td>\n",
       "      <td>mcveigh</td>\n",
       "      <td>5.0</td>\n",
       "      <td>alinda place</td>\n",
       "      <td>thornlands</td>\n",
       "      <td>4350</td>\n",
       "      <td>nsw</td>\n",
       "      <td>19230521.0</td>\n",
       "      <td>26.0</td>\n",
       "      <td>0752535106</td>\n",
       "      <td>None</td>\n",
       "      <td>18887</td>\n",
       "      <td>1.0</td>\n",
       "    </tr>\n",
       "  </tbody>\n",
       "</table>\n",
       "<p>20000 rows × 14 columns</p>\n",
       "</div>"
      ],
      "text/plain": [
       "      patient_id given_name    surname street_number              address_1  \\\n",
       "0         221958    matisse     clarke          13.0            rene street   \n",
       "1         771155     joshua     elrick          23.0           andrea place   \n",
       "2         231932      alice     conboy          35.0       mountain circuit   \n",
       "3         465838     sienna   craswell          39.0    cumberlegeicrescent   \n",
       "4         359178     joshua  bastiaans         144.0          lowrie street   \n",
       "...          ...        ...        ...           ...                    ...   \n",
       "19995     368617       abby       None          19.0  john cleland crescent   \n",
       "19996     796658       dale     priest          19.0  bellchambers crescent   \n",
       "19997     511885    alessia     mawlai           4.0          miller street   \n",
       "19998     985932     hannah      mason           1.0         halligan place   \n",
       "19999     925217       jack    mcveigh           5.0           alinda place   \n",
       "\n",
       "                 suburb postcode state date_of_birth   age phone_number  \\\n",
       "0            ellenbrook     2527    wa    19710708.0  32.0   0886018809   \n",
       "1          east preston     2074   nsw    19120921.0  34.0   0297793152   \n",
       "2              prospect     2305   nsw    19810905.0  22.0   0220403934   \n",
       "3                 henty     3620    wa    19840809.0  30.0   0262832318   \n",
       "4         campbell town     4051   nsw    19340430.0  31.0   0369359594   \n",
       "...                 ...      ...   ...           ...   ...          ...   \n",
       "19995      boyne island     2290   nsw    19570210.0  None   0292489054   \n",
       "19996  hoppers crossing     3033    wa    19590619.0  31.0   0720549476   \n",
       "19997        smithfield     3616   tas          None  26.0   0383466737   \n",
       "19998         beaumaris     2443    wa    19140304.0  25.0   0441125514   \n",
       "19999        thornlands     4350   nsw    19230521.0  26.0   0752535106   \n",
       "\n",
       "      address_2  cluster id  confidence  \n",
       "0      westella         669         1.0  \n",
       "1       foxdown         670         1.0  \n",
       "2          None         671         1.0  \n",
       "3        jodane           0         1.0  \n",
       "4          None         672         1.0  \n",
       "...         ...         ...         ...  \n",
       "19995  glenmore       18883         1.0  \n",
       "19996      None       18884         1.0  \n",
       "19997      None       18885         1.0  \n",
       "19998      None       18886         1.0  \n",
       "19999      None       18887         1.0  \n",
       "\n",
       "[20000 rows x 14 columns]"
      ]
     },
     "metadata": {},
     "output_type": "display_data"
    }
   ],
   "source": [
    "#display result\n",
    "display(df_final)"
   ]
  },
  {
   "cell_type": "markdown",
   "metadata": {},
   "source": [
    "Pour le résultat final, on un dataframe généré avec deux nouvelles colonnes clusted id (tous les dupliqués on le meme id) et confidence ( le score que cet element appartient au cluster d'un id bien determiné"
   ]
  },
  {
   "cell_type": "code",
   "execution_count": 27,
   "metadata": {},
   "outputs": [],
   "source": [
    "#remove duplicates by removing rows having same id and keep the first one \n",
    "df_final.drop_duplicates(subset='cluster id', keep=\"first\",inplace=True)\n",
    "#remove confidence and cluster id columns\n",
    "df_final.drop([\"cluster id\",\"confidence\"],axis=1,inplace=True)"
   ]
  },
  {
   "cell_type": "code",
   "execution_count": 28,
   "metadata": {},
   "outputs": [
    {
     "data": {
      "text/html": [
       "<div>\n",
       "<style scoped>\n",
       "    .dataframe tbody tr th:only-of-type {\n",
       "        vertical-align: middle;\n",
       "    }\n",
       "\n",
       "    .dataframe tbody tr th {\n",
       "        vertical-align: top;\n",
       "    }\n",
       "\n",
       "    .dataframe thead th {\n",
       "        text-align: right;\n",
       "    }\n",
       "</style>\n",
       "<table border=\"1\" class=\"dataframe\">\n",
       "  <thead>\n",
       "    <tr style=\"text-align: right;\">\n",
       "      <th></th>\n",
       "      <th>patient_id</th>\n",
       "      <th>given_name</th>\n",
       "      <th>surname</th>\n",
       "      <th>street_number</th>\n",
       "      <th>address_1</th>\n",
       "      <th>suburb</th>\n",
       "      <th>postcode</th>\n",
       "      <th>state</th>\n",
       "      <th>date_of_birth</th>\n",
       "      <th>age</th>\n",
       "      <th>phone_number</th>\n",
       "      <th>address_2</th>\n",
       "    </tr>\n",
       "  </thead>\n",
       "  <tbody>\n",
       "    <tr>\n",
       "      <th>0</th>\n",
       "      <td>221958</td>\n",
       "      <td>matisse</td>\n",
       "      <td>clarke</td>\n",
       "      <td>13.0</td>\n",
       "      <td>rene street</td>\n",
       "      <td>ellenbrook</td>\n",
       "      <td>2527</td>\n",
       "      <td>wa</td>\n",
       "      <td>19710708.0</td>\n",
       "      <td>32.0</td>\n",
       "      <td>0886018809</td>\n",
       "      <td>westella</td>\n",
       "    </tr>\n",
       "    <tr>\n",
       "      <th>1</th>\n",
       "      <td>771155</td>\n",
       "      <td>joshua</td>\n",
       "      <td>elrick</td>\n",
       "      <td>23.0</td>\n",
       "      <td>andrea place</td>\n",
       "      <td>east preston</td>\n",
       "      <td>2074</td>\n",
       "      <td>nsw</td>\n",
       "      <td>19120921.0</td>\n",
       "      <td>34.0</td>\n",
       "      <td>0297793152</td>\n",
       "      <td>foxdown</td>\n",
       "    </tr>\n",
       "    <tr>\n",
       "      <th>2</th>\n",
       "      <td>231932</td>\n",
       "      <td>alice</td>\n",
       "      <td>conboy</td>\n",
       "      <td>35.0</td>\n",
       "      <td>mountain circuit</td>\n",
       "      <td>prospect</td>\n",
       "      <td>2305</td>\n",
       "      <td>nsw</td>\n",
       "      <td>19810905.0</td>\n",
       "      <td>22.0</td>\n",
       "      <td>0220403934</td>\n",
       "      <td>None</td>\n",
       "    </tr>\n",
       "    <tr>\n",
       "      <th>3</th>\n",
       "      <td>465838</td>\n",
       "      <td>sienna</td>\n",
       "      <td>craswell</td>\n",
       "      <td>39.0</td>\n",
       "      <td>cumberlegeicrescent</td>\n",
       "      <td>henty</td>\n",
       "      <td>3620</td>\n",
       "      <td>wa</td>\n",
       "      <td>19840809.0</td>\n",
       "      <td>30.0</td>\n",
       "      <td>0262832318</td>\n",
       "      <td>jodane</td>\n",
       "    </tr>\n",
       "    <tr>\n",
       "      <th>4</th>\n",
       "      <td>359178</td>\n",
       "      <td>joshua</td>\n",
       "      <td>bastiaans</td>\n",
       "      <td>144.0</td>\n",
       "      <td>lowrie street</td>\n",
       "      <td>campbell town</td>\n",
       "      <td>4051</td>\n",
       "      <td>nsw</td>\n",
       "      <td>19340430.0</td>\n",
       "      <td>31.0</td>\n",
       "      <td>0369359594</td>\n",
       "      <td>None</td>\n",
       "    </tr>\n",
       "    <tr>\n",
       "      <th>...</th>\n",
       "      <td>...</td>\n",
       "      <td>...</td>\n",
       "      <td>...</td>\n",
       "      <td>...</td>\n",
       "      <td>...</td>\n",
       "      <td>...</td>\n",
       "      <td>...</td>\n",
       "      <td>...</td>\n",
       "      <td>...</td>\n",
       "      <td>...</td>\n",
       "      <td>...</td>\n",
       "      <td>...</td>\n",
       "    </tr>\n",
       "    <tr>\n",
       "      <th>19995</th>\n",
       "      <td>368617</td>\n",
       "      <td>abby</td>\n",
       "      <td>None</td>\n",
       "      <td>19.0</td>\n",
       "      <td>john cleland crescent</td>\n",
       "      <td>boyne island</td>\n",
       "      <td>2290</td>\n",
       "      <td>nsw</td>\n",
       "      <td>19570210.0</td>\n",
       "      <td>None</td>\n",
       "      <td>0292489054</td>\n",
       "      <td>glenmore</td>\n",
       "    </tr>\n",
       "    <tr>\n",
       "      <th>19996</th>\n",
       "      <td>796658</td>\n",
       "      <td>dale</td>\n",
       "      <td>priest</td>\n",
       "      <td>19.0</td>\n",
       "      <td>bellchambers crescent</td>\n",
       "      <td>hoppers crossing</td>\n",
       "      <td>3033</td>\n",
       "      <td>wa</td>\n",
       "      <td>19590619.0</td>\n",
       "      <td>31.0</td>\n",
       "      <td>0720549476</td>\n",
       "      <td>None</td>\n",
       "    </tr>\n",
       "    <tr>\n",
       "      <th>19997</th>\n",
       "      <td>511885</td>\n",
       "      <td>alessia</td>\n",
       "      <td>mawlai</td>\n",
       "      <td>4.0</td>\n",
       "      <td>miller street</td>\n",
       "      <td>smithfield</td>\n",
       "      <td>3616</td>\n",
       "      <td>tas</td>\n",
       "      <td>None</td>\n",
       "      <td>26.0</td>\n",
       "      <td>0383466737</td>\n",
       "      <td>None</td>\n",
       "    </tr>\n",
       "    <tr>\n",
       "      <th>19998</th>\n",
       "      <td>985932</td>\n",
       "      <td>hannah</td>\n",
       "      <td>mason</td>\n",
       "      <td>1.0</td>\n",
       "      <td>halligan place</td>\n",
       "      <td>beaumaris</td>\n",
       "      <td>2443</td>\n",
       "      <td>wa</td>\n",
       "      <td>19140304.0</td>\n",
       "      <td>25.0</td>\n",
       "      <td>0441125514</td>\n",
       "      <td>None</td>\n",
       "    </tr>\n",
       "    <tr>\n",
       "      <th>19999</th>\n",
       "      <td>925217</td>\n",
       "      <td>jack</td>\n",
       "      <td>mcveigh</td>\n",
       "      <td>5.0</td>\n",
       "      <td>alinda place</td>\n",
       "      <td>thornlands</td>\n",
       "      <td>4350</td>\n",
       "      <td>nsw</td>\n",
       "      <td>19230521.0</td>\n",
       "      <td>26.0</td>\n",
       "      <td>0752535106</td>\n",
       "      <td>None</td>\n",
       "    </tr>\n",
       "  </tbody>\n",
       "</table>\n",
       "<p>18888 rows × 12 columns</p>\n",
       "</div>"
      ],
      "text/plain": [
       "      patient_id given_name    surname street_number              address_1  \\\n",
       "0         221958    matisse     clarke          13.0            rene street   \n",
       "1         771155     joshua     elrick          23.0           andrea place   \n",
       "2         231932      alice     conboy          35.0       mountain circuit   \n",
       "3         465838     sienna   craswell          39.0    cumberlegeicrescent   \n",
       "4         359178     joshua  bastiaans         144.0          lowrie street   \n",
       "...          ...        ...        ...           ...                    ...   \n",
       "19995     368617       abby       None          19.0  john cleland crescent   \n",
       "19996     796658       dale     priest          19.0  bellchambers crescent   \n",
       "19997     511885    alessia     mawlai           4.0          miller street   \n",
       "19998     985932     hannah      mason           1.0         halligan place   \n",
       "19999     925217       jack    mcveigh           5.0           alinda place   \n",
       "\n",
       "                 suburb postcode state date_of_birth   age phone_number  \\\n",
       "0            ellenbrook     2527    wa    19710708.0  32.0   0886018809   \n",
       "1          east preston     2074   nsw    19120921.0  34.0   0297793152   \n",
       "2              prospect     2305   nsw    19810905.0  22.0   0220403934   \n",
       "3                 henty     3620    wa    19840809.0  30.0   0262832318   \n",
       "4         campbell town     4051   nsw    19340430.0  31.0   0369359594   \n",
       "...                 ...      ...   ...           ...   ...          ...   \n",
       "19995      boyne island     2290   nsw    19570210.0  None   0292489054   \n",
       "19996  hoppers crossing     3033    wa    19590619.0  31.0   0720549476   \n",
       "19997        smithfield     3616   tas          None  26.0   0383466737   \n",
       "19998         beaumaris     2443    wa    19140304.0  25.0   0441125514   \n",
       "19999        thornlands     4350   nsw    19230521.0  26.0   0752535106   \n",
       "\n",
       "      address_2  \n",
       "0      westella  \n",
       "1       foxdown  \n",
       "2          None  \n",
       "3        jodane  \n",
       "4          None  \n",
       "...         ...  \n",
       "19995  glenmore  \n",
       "19996      None  \n",
       "19997      None  \n",
       "19998      None  \n",
       "19999      None  \n",
       "\n",
       "[18888 rows x 12 columns]"
      ]
     },
     "metadata": {},
     "output_type": "display_data"
    }
   ],
   "source": [
    "display(df_final)"
   ]
  },
  {
   "cell_type": "code",
   "execution_count": 29,
   "metadata": {},
   "outputs": [
    {
     "data": {
      "text/html": [
       "<div>\n",
       "<style scoped>\n",
       "    .dataframe tbody tr th:only-of-type {\n",
       "        vertical-align: middle;\n",
       "    }\n",
       "\n",
       "    .dataframe tbody tr th {\n",
       "        vertical-align: top;\n",
       "    }\n",
       "\n",
       "    .dataframe thead th {\n",
       "        text-align: right;\n",
       "    }\n",
       "</style>\n",
       "<table border=\"1\" class=\"dataframe\">\n",
       "  <thead>\n",
       "    <tr style=\"text-align: right;\">\n",
       "      <th></th>\n",
       "      <th>sum</th>\n",
       "    </tr>\n",
       "  </thead>\n",
       "  <tbody>\n",
       "    <tr>\n",
       "      <th>duplicates</th>\n",
       "      <td>18888</td>\n",
       "    </tr>\n",
       "    <tr>\n",
       "      <th>non_duplicates</th>\n",
       "      <td>1112</td>\n",
       "    </tr>\n",
       "  </tbody>\n",
       "</table>\n",
       "</div>"
      ],
      "text/plain": [
       "                  sum\n",
       "duplicates      18888\n",
       "non_duplicates   1112"
      ]
     },
     "execution_count": 29,
     "metadata": {},
     "output_type": "execute_result"
    }
   ],
   "source": [
    "#construct duplicates number pdf contains count of duplicates and non duplicates\n",
    "duplicates_number_df = pd.DataFrame([len(df_final),len(df_patient_cleaned)-len(df_final)],index=['duplicates', 'non_duplicates'],columns=[\"sum\"])\n",
    "duplicates_number_df"
   ]
  },
  {
   "cell_type": "markdown",
   "metadata": {},
   "source": [
    "## Plot count duplicates Vs Non duplicates "
   ]
  },
  {
   "cell_type": "code",
   "execution_count": 30,
   "metadata": {},
   "outputs": [
    {
     "ename": "NameError",
     "evalue": "name 'plt' is not defined",
     "output_type": "error",
     "traceback": [
      "\u001b[1;31m---------------------------------------------------------------------------\u001b[0m",
      "\u001b[1;31mNameError\u001b[0m                                 Traceback (most recent call last)",
      "\u001b[1;32m<ipython-input-30-72465bd61b28>\u001b[0m in \u001b[0;36m<module>\u001b[1;34m\u001b[0m\n\u001b[1;32m----> 1\u001b[1;33m \u001b[0mfig\u001b[0m\u001b[1;33m,\u001b[0m \u001b[1;33m(\u001b[0m\u001b[0max1\u001b[0m\u001b[1;33m,\u001b[0m \u001b[0max2\u001b[0m\u001b[1;33m)\u001b[0m \u001b[1;33m=\u001b[0m \u001b[0mplt\u001b[0m\u001b[1;33m.\u001b[0m\u001b[0msubplots\u001b[0m\u001b[1;33m(\u001b[0m\u001b[1;36m1\u001b[0m\u001b[1;33m,\u001b[0m \u001b[1;36m2\u001b[0m\u001b[1;33m,\u001b[0m \u001b[0mfigsize\u001b[0m\u001b[1;33m=\u001b[0m\u001b[1;33m(\u001b[0m\u001b[1;36m20\u001b[0m\u001b[1;33m,\u001b[0m\u001b[1;36m10\u001b[0m\u001b[1;33m)\u001b[0m\u001b[1;33m)\u001b[0m\u001b[1;33m\u001b[0m\u001b[0m\n\u001b[0m\u001b[0;32m      2\u001b[0m \u001b[0msns\u001b[0m\u001b[1;33m.\u001b[0m\u001b[0mset\u001b[0m\u001b[1;33m(\u001b[0m\u001b[0mstyle\u001b[0m\u001b[1;33m=\u001b[0m\u001b[1;34m\"darkgrid\"\u001b[0m\u001b[1;33m)\u001b[0m\u001b[1;33m\u001b[0m\u001b[0m\n\u001b[0;32m      3\u001b[0m \u001b[0msns\u001b[0m\u001b[1;33m.\u001b[0m\u001b[0mbarplot\u001b[0m\u001b[1;33m(\u001b[0m\u001b[0mx\u001b[0m\u001b[1;33m=\u001b[0m\u001b[0mduplicates_number_df\u001b[0m\u001b[1;33m.\u001b[0m\u001b[0mindex\u001b[0m\u001b[1;33m,\u001b[0m\u001b[0my\u001b[0m\u001b[1;33m=\u001b[0m\u001b[1;34m\"sum\"\u001b[0m\u001b[1;33m,\u001b[0m \u001b[0mdata\u001b[0m\u001b[1;33m=\u001b[0m\u001b[0mduplicates_number_df\u001b[0m\u001b[1;33m,\u001b[0m\u001b[0max\u001b[0m\u001b[1;33m=\u001b[0m\u001b[0max1\u001b[0m\u001b[1;33m)\u001b[0m\u001b[1;33m\u001b[0m\u001b[0m\n\u001b[0;32m      4\u001b[0m \u001b[1;33m\u001b[0m\u001b[0m\n\u001b[0;32m      5\u001b[0m \u001b[1;31m# defining labels\u001b[0m\u001b[1;33m\u001b[0m\u001b[1;33m\u001b[0m\u001b[0m\n",
      "\u001b[1;31mNameError\u001b[0m: name 'plt' is not defined"
     ]
    }
   ],
   "source": [
    "fig, (ax1, ax2) = plt.subplots(1, 2, figsize=(20,10))\n",
    "sns.set(style=\"darkgrid\")\n",
    "sns.barplot(x=duplicates_number_df.index,y=\"sum\", data=duplicates_number_df,ax=ax1)\n",
    "\n",
    "# defining labels \n",
    "activities = duplicates_number_df.index  \n",
    "# portion covered by each label \n",
    "slices = duplicates_number_df[\"sum\"]\n",
    "# color for each label \n",
    "  \n",
    "# plotting the pie chart \n",
    "ax2.pie(slices, labels = activities,  \n",
    "        startangle=90, \n",
    "        radius = 1, autopct = '%1.1f%%') \n",
    "\n",
    "# plotting legend \n",
    "ax2.legend(loc=\"upper right\")\n",
    "\n",
    "# plotting titles \n",
    "ax1.set_title(\"Duplicates Vs Non Duplicates\", fontsize=18)\n",
    "ax2.set_title(\"Duplicates Vs Non Duplicates\", fontsize=18)\n",
    "\n",
    "plt.show()"
   ]
  },
  {
   "cell_type": "markdown",
   "metadata": {},
   "source": [
    "Selon ces graphes, notre dataframe a un pourcentage de 7% de données qui sont dupliquées en utilisant pandas dedupe library"
   ]
  }
 ],
 "metadata": {
  "kernelspec": {
   "display_name": "Python 3",
   "language": "python",
   "name": "python3"
  },
  "language_info": {
   "codemirror_mode": {
    "name": "ipython",
    "version": 3
   },
   "file_extension": ".py",
   "mimetype": "text/x-python",
   "name": "python",
   "nbconvert_exporter": "python",
   "pygments_lexer": "ipython3",
   "version": "3.6.1"
  }
 },
 "nbformat": 4,
 "nbformat_minor": 4
}
