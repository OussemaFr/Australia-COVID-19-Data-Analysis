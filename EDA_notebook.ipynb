{
 "cells": [
  {
   "cell_type": "markdown",
   "metadata": {},
   "source": [
    "# EDA on new patient dataframe"
   ]
  },
  {
   "cell_type": "markdown",
   "metadata": {},
   "source": [
    "# Install libraries"
   ]
  },
  {
   "cell_type": "code",
   "execution_count": 1,
   "metadata": {},
   "outputs": [
    {
     "name": "stdout",
     "output_type": "stream",
     "text": [
      "Requirement already satisfied: seaborn in c:\\users\\lenovo\\appdata\\local\\programs\\python\\python36\\lib\\site-packages (0.10.1)\n",
      "Requirement already satisfied: matplotlib>=2.1.2 in c:\\users\\lenovo\\appdata\\local\\programs\\python\\python36\\lib\\site-packages (from seaborn) (3.2.2)\n",
      "Requirement already satisfied: scipy>=1.0.1 in c:\\users\\lenovo\\appdata\\local\\programs\\python\\python36\\lib\\site-packages (from seaborn) (1.5.0)\n",
      "Requirement already satisfied: pandas>=0.22.0 in c:\\users\\lenovo\\appdata\\local\\programs\\python\\python36\\lib\\site-packages (from seaborn) (1.0.4)\n",
      "Requirement already satisfied: numpy>=1.13.3 in c:\\users\\lenovo\\appdata\\local\\programs\\python\\python36\\lib\\site-packages (from seaborn) (1.18.4)\n",
      "Requirement already satisfied: pyparsing!=2.0.4,!=2.1.2,!=2.1.6,>=2.0.1 in c:\\users\\lenovo\\appdata\\local\\programs\\python\\python36\\lib\\site-packages (from matplotlib>=2.1.2->seaborn) (2.4.7)\n",
      "Requirement already satisfied: kiwisolver>=1.0.1 in c:\\users\\lenovo\\appdata\\local\\programs\\python\\python36\\lib\\site-packages (from matplotlib>=2.1.2->seaborn) (1.2.0)\n",
      "Requirement already satisfied: cycler>=0.10 in c:\\users\\lenovo\\appdata\\local\\programs\\python\\python36\\lib\\site-packages (from matplotlib>=2.1.2->seaborn) (0.10.0)\n",
      "Requirement already satisfied: python-dateutil>=2.1 in c:\\users\\lenovo\\appdata\\local\\programs\\python\\python36\\lib\\site-packages (from matplotlib>=2.1.2->seaborn) (2.8.1)\n",
      "Requirement already satisfied: pytz>=2017.2 in c:\\users\\lenovo\\appdata\\local\\programs\\python\\python36\\lib\\site-packages (from pandas>=0.22.0->seaborn) (2020.1)\n",
      "Requirement already satisfied: six in c:\\users\\lenovo\\appdata\\local\\programs\\python\\python36\\lib\\site-packages (from cycler>=0.10->matplotlib>=2.1.2->seaborn) (1.15.0)\n",
      "Requirement already satisfied: folium in c:\\users\\lenovo\\appdata\\local\\programs\\python\\python36\\lib\\site-packages (0.11.0)\n",
      "Requirement already satisfied: numpy in c:\\users\\lenovo\\appdata\\local\\programs\\python\\python36\\lib\\site-packages (from folium) (1.18.4)\n",
      "Requirement already satisfied: branca>=0.3.0 in c:\\users\\lenovo\\appdata\\local\\programs\\python\\python36\\lib\\site-packages (from folium) (0.4.1)\n",
      "Requirement already satisfied: jinja2>=2.9 in c:\\users\\lenovo\\appdata\\local\\programs\\python\\python36\\lib\\site-packages (from folium) (2.11.2)\n",
      "Requirement already satisfied: requests in c:\\users\\lenovo\\appdata\\local\\programs\\python\\python36\\lib\\site-packages (from folium) (2.23.0)\n",
      "Requirement already satisfied: MarkupSafe>=0.23 in c:\\users\\lenovo\\appdata\\local\\programs\\python\\python36\\lib\\site-packages (from jinja2>=2.9->folium) (1.1.1)\n",
      "Requirement already satisfied: idna<3,>=2.5 in c:\\users\\lenovo\\appdata\\local\\programs\\python\\python36\\lib\\site-packages (from requests->folium) (2.9)\n",
      "Requirement already satisfied: chardet<4,>=3.0.2 in c:\\users\\lenovo\\appdata\\local\\programs\\python\\python36\\lib\\site-packages (from requests->folium) (3.0.4)\n",
      "Requirement already satisfied: certifi>=2017.4.17 in c:\\users\\lenovo\\appdata\\local\\programs\\python\\python36\\lib\\site-packages (from requests->folium) (2020.4.5.2)\n",
      "Requirement already satisfied: urllib3!=1.25.0,!=1.25.1,<1.26,>=1.21.1 in c:\\users\\lenovo\\appdata\\local\\programs\\python\\python36\\lib\\site-packages (from requests->folium) (1.25.9)\n"
     ]
    }
   ],
   "source": [
    "#install requirements\n",
    "!pip install seaborn\n",
    "!pip install folium"
   ]
  },
  {
   "cell_type": "markdown",
   "metadata": {},
   "source": [
    "# Import libraries"
   ]
  },
  {
   "cell_type": "code",
   "execution_count": 2,
   "metadata": {},
   "outputs": [],
   "source": [
    "import pandas as pd\n",
    "from collections import Counter \n",
    "from sqlalchemy import create_engine\n",
    "\n",
    "import folium\n",
    "from folium.features import DivIcon\n",
    "\n",
    "import seaborn as sns \n",
    "import matplotlib.pyplot as plt\n",
    "%matplotlib inline "
   ]
  },
  {
   "cell_type": "markdown",
   "metadata": {},
   "source": [
    "# Import sql databases as Dataframes"
   ]
  },
  {
   "cell_type": "markdown",
   "metadata": {},
   "source": [
    "## Verify list of tables"
   ]
  },
  {
   "cell_type": "code",
   "execution_count": 3,
   "metadata": {},
   "outputs": [
    {
     "data": {
      "text/plain": [
       "['new_patient', 'patient', 'test']"
      ]
     },
     "execution_count": 3,
     "metadata": {},
     "output_type": "execute_result"
    }
   ],
   "source": [
    "#create engine to make connection to data base\n",
    "db_schema = 'sqlite:///inria-aphp-assignment-master/data.db'\n",
    "engine = create_engine(db_schema, echo=False)\n",
    "engine.table_names()"
   ]
  },
  {
   "cell_type": "markdown",
   "metadata": {},
   "source": [
    "## Import sql databases as dataframes"
   ]
  },
  {
   "cell_type": "code",
   "execution_count": 4,
   "metadata": {},
   "outputs": [],
   "source": [
    "#retrieve patient and test dataframes\n",
    "con = engine.connect()\n",
    "df_patient = pd.read_sql('select * from patient', con=con)\n",
    "df_new_patient = pd.read_sql('select * from new_patient', con=con)\n",
    "df_pcr = pd.read_sql('select * from test', con=con)\n",
    "con.close()"
   ]
  },
  {
   "cell_type": "markdown",
   "metadata": {},
   "source": [
    "# Data Visualization"
   ]
  },
  {
   "cell_type": "markdown",
   "metadata": {},
   "source": [
    "## pcr dataframe analysis"
   ]
  },
  {
   "cell_type": "code",
   "execution_count": 5,
   "metadata": {},
   "outputs": [
    {
     "data": {
      "text/html": [
       "<div>\n",
       "<style scoped>\n",
       "    .dataframe tbody tr th:only-of-type {\n",
       "        vertical-align: middle;\n",
       "    }\n",
       "\n",
       "    .dataframe tbody tr th {\n",
       "        vertical-align: top;\n",
       "    }\n",
       "\n",
       "    .dataframe thead th {\n",
       "        text-align: right;\n",
       "    }\n",
       "</style>\n",
       "<table border=\"1\" class=\"dataframe\">\n",
       "  <thead>\n",
       "    <tr style=\"text-align: right;\">\n",
       "      <th></th>\n",
       "      <th>patient_id</th>\n",
       "      <th>pcr</th>\n",
       "    </tr>\n",
       "  </thead>\n",
       "  <tbody>\n",
       "    <tr>\n",
       "      <th>0</th>\n",
       "      <td>653091</td>\n",
       "      <td>N</td>\n",
       "    </tr>\n",
       "    <tr>\n",
       "      <th>1</th>\n",
       "      <td>347667</td>\n",
       "      <td>Negative</td>\n",
       "    </tr>\n",
       "    <tr>\n",
       "      <th>2</th>\n",
       "      <td>708481</td>\n",
       "      <td>Positive</td>\n",
       "    </tr>\n",
       "    <tr>\n",
       "      <th>3</th>\n",
       "      <td>148825</td>\n",
       "      <td>Negative</td>\n",
       "    </tr>\n",
       "    <tr>\n",
       "      <th>4</th>\n",
       "      <td>150081</td>\n",
       "      <td>Negative</td>\n",
       "    </tr>\n",
       "    <tr>\n",
       "      <th>...</th>\n",
       "      <td>...</td>\n",
       "      <td>...</td>\n",
       "    </tr>\n",
       "    <tr>\n",
       "      <th>8795</th>\n",
       "      <td>249457</td>\n",
       "      <td>N</td>\n",
       "    </tr>\n",
       "    <tr>\n",
       "      <th>8796</th>\n",
       "      <td>279689</td>\n",
       "      <td>Positive</td>\n",
       "    </tr>\n",
       "    <tr>\n",
       "      <th>8797</th>\n",
       "      <td>975612</td>\n",
       "      <td>N</td>\n",
       "    </tr>\n",
       "    <tr>\n",
       "      <th>8798</th>\n",
       "      <td>884429</td>\n",
       "      <td>Positive</td>\n",
       "    </tr>\n",
       "    <tr>\n",
       "      <th>8799</th>\n",
       "      <td>272409</td>\n",
       "      <td>Negative</td>\n",
       "    </tr>\n",
       "  </tbody>\n",
       "</table>\n",
       "<p>8800 rows × 2 columns</p>\n",
       "</div>"
      ],
      "text/plain": [
       "      patient_id       pcr\n",
       "0         653091         N\n",
       "1         347667  Negative\n",
       "2         708481  Positive\n",
       "3         148825  Negative\n",
       "4         150081  Negative\n",
       "...          ...       ...\n",
       "8795      249457         N\n",
       "8796      279689  Positive\n",
       "8797      975612         N\n",
       "8798      884429  Positive\n",
       "8799      272409  Negative\n",
       "\n",
       "[8800 rows x 2 columns]"
      ]
     },
     "metadata": {},
     "output_type": "display_data"
    }
   ],
   "source": [
    "#display pcr dataframe\n",
    "display(df_pcr)"
   ]
  },
  {
   "cell_type": "code",
   "execution_count": 6,
   "metadata": {},
   "outputs": [
    {
     "name": "stdout",
     "output_type": "stream",
     "text": [
      "<class 'pandas.core.frame.DataFrame'>\n",
      "RangeIndex: 8800 entries, 0 to 8799\n",
      "Data columns (total 2 columns):\n",
      " #   Column      Non-Null Count  Dtype \n",
      "---  ------      --------------  ----- \n",
      " 0   patient_id  8800 non-null   int64 \n",
      " 1   pcr         8800 non-null   object\n",
      "dtypes: int64(1), object(1)\n",
      "memory usage: 137.6+ KB\n"
     ]
    }
   ],
   "source": [
    "#get pcr dataframe info\n",
    "df_pcr.info()"
   ]
  },
  {
   "cell_type": "code",
   "execution_count": 7,
   "metadata": {},
   "outputs": [
    {
     "data": {
      "text/plain": [
       "patient_id    8765\n",
       "pcr              4\n",
       "dtype: int64"
      ]
     },
     "execution_count": 7,
     "metadata": {},
     "output_type": "execute_result"
    }
   ],
   "source": [
    "#get pcr dataframe nunique values\n",
    "df_pcr.nunique()"
   ]
  },
  {
   "cell_type": "code",
   "execution_count": 8,
   "metadata": {},
   "outputs": [
    {
     "data": {
      "image/png": "[encoded data removed]",
      "text/plain": [
       "<Figure size 1080x720 with 1 Axes>"
      ]
     },
     "metadata": {
      "needs_background": "light"
     },
     "output_type": "display_data"
    }
   ],
   "source": [
    "#visualize pcr results\n",
    "plt.figure(figsize=(15,10))\n",
    "sns.countplot(x='pcr',data=df_pcr).set_title(\"Pcr results distribution\",fontsize=18)\n",
    "plt.show()"
   ]
  },
  {
   "cell_type": "markdown",
   "metadata": {},
   "source": [
    "On remarque que le nombre total de patient id égale a 8800 alors qu'on a seulement 8765. Du coup, il y des duplicates aussi pour cette dataframe et ca va nous poser des problème lors de la jointure avec new_patient dataframe. Aussi, le nombre unique du pcr égale à 4 alors logiquement on a seuelemt deux valeurs soit positive soit négative. Du coup, il faut qu'on vérifie cette colonne"
   ]
  },
  {
   "cell_type": "code",
   "execution_count": 9,
   "metadata": {},
   "outputs": [
    {
     "data": {
      "text/plain": [
       "array(['N', 'Negative', 'Positive', 'P'], dtype=object)"
      ]
     },
     "execution_count": 9,
     "metadata": {},
     "output_type": "execute_result"
    }
   ],
   "source": [
    "#get pcr attribut unique values\n",
    "df_pcr[\"pcr\"].unique()"
   ]
  },
  {
   "cell_type": "code",
   "execution_count": 10,
   "metadata": {},
   "outputs": [
    {
     "data": {
      "text/plain": [
       "array(['N', 'P'], dtype=object)"
      ]
     },
     "execution_count": 10,
     "metadata": {},
     "output_type": "execute_result"
    }
   ],
   "source": [
    "#Replace Negative to N and Postive to P to get two unique values\n",
    "df_pcr[\"pcr\"] = df_pcr[\"pcr\"].apply(lambda x: 'P' if x=='Positive' else  ('N' if x=='Negative' else x))\n",
    "df_pcr[\"pcr\"].unique()"
   ]
  },
  {
   "cell_type": "markdown",
   "metadata": {},
   "source": [
    "A ce stage la, on a résolu le problème du pcr colonne. Dans les prochaines étapes, on va se focaliser sur le problème des duplicates ids dans le datafame pcr. Pour cela, il faut qu'on vérifie si un id est dupliqué et les dupliqués ont des resultas de tests differents il faut les supprimer, Sinon on accorde le meme resultat aux nouveaux ids généré en utilisant le dictionnaire généré par la fonction get_id_duplicates utilisé dans le premier notebook."
   ]
  },
  {
   "cell_type": "code",
   "execution_count": 11,
   "metadata": {},
   "outputs": [],
   "source": [
    "def get_id_duplicates(df):\n",
    "    \n",
    "    \"\"\"get id duplicates values  \n",
    "    \n",
    "    Parameters\n",
    "    ----------\n",
    "    df : dataframe\n",
    "        patient informations dataframe\n",
    "        \n",
    "    Returns\n",
    "    -------\n",
    "    tuple\n",
    "        contains new dataframe with assigned new ids to duplicates and dictionary contains duplicates id as keys and new assigned ids for the duplicates\n",
    "    \"\"\"\n",
    "    \n",
    "    new_df = df.copy()\n",
    "    dict_ = {}\n",
    "    i = 0\n",
    "    #verify whether the duplicates on patient id have the same pcr result or not \n",
    "    for id,count in Counter(new_df.patient_id).most_common():\n",
    "        #if ids is duplicated\n",
    "        if count > 1:\n",
    "            list_new_index = []\n",
    "            #iterate over rows having the same id\n",
    "            for idx,row in new_df[new_df[\"patient_id\"]==id][1:].iterrows():\n",
    "                i = i+1\n",
    "                #assign new ids\n",
    "                new_df.loc[idx,\"patient_id\"] = min(new_df[\"patient_id\"])-i\n",
    "                #get assigned ids into a list\n",
    "                list_new_index += [min(new_df[\"patient_id\"])-i]\n",
    "            #create a dictionay contains duplicates id as keys and new assigned ids for the duplicates\n",
    "            dict_[str(id)] = list_new_index\n",
    "            \n",
    "    return new_df, dict_"
   ]
  },
  {
   "cell_type": "code",
   "execution_count": 12,
   "metadata": {},
   "outputs": [],
   "source": [
    "#get df_patient without id_duplicates and dictionary of duplicates and new assigned ids\n",
    "_, dict_duplicates_id = get_id_duplicates(df_patient)"
   ]
  },
  {
   "cell_type": "code",
   "execution_count": 13,
   "metadata": {},
   "outputs": [],
   "source": [
    "def clean_pcr_ids(df,dict_duplicates_id):\n",
    "    \n",
    "    \"\"\"clean pcr ids before joins  \n",
    "    \n",
    "    Parameters\n",
    "    ----------\n",
    "    df : dataframe\n",
    "        pcr informations dataframe\n",
    "    dict_duplicates_id : dict\n",
    "        contains duplicates id as keys and new assigned ids for the duplicates in first notebook\n",
    "    Returns\n",
    "    -------\n",
    "    dataframe\n",
    "        cleaned dataframe without duplicates\n",
    "    \"\"\"\n",
    "        \n",
    "    new_df = df.copy()\n",
    "    #verify whether the duplicates on patient id have the same pcr result or not \n",
    "    for id,count in Counter(new_df.patient_id).most_common():\n",
    "        #detect duplicates ids\n",
    "        if count > 1:\n",
    "            #detect whether the id and its duplicates having same pcr result if set(results)=1 then yes otherwise not\n",
    "            if len(set(new_df[new_df[\"patient_id\"]==id][\"pcr\"])) != 1:\n",
    "                #delete the id and its duplicates\n",
    "                new_df = new_df[new_df.patient_id != id]\n",
    "            elif len(set(new_df[new_df[\"patient_id\"]==id][\"pcr\"])) == 1:\n",
    "                #verify if id in dictionary keys\n",
    "                if str(id) in dict_duplicates_id.keys():\n",
    "                    #verify if number of id duplicates in pcr dataframe equal to same id duplicates in patient dataframe\n",
    "                    if count == len(dict_duplicates_id[str(id)])+1:\n",
    "                        #add new assigned ids in part one to new df\n",
    "                        for el in dict_duplicates_id[str(id)]:\n",
    "                            new_df = new_df.append({'patient_id':int(el), 'pcr':new_df[new_df[\"patient_id\"]==id].iloc[0][\"pcr\"]}, ignore_index=True)\n",
    "        #keep only first id and delete its duplicates as they were replcaed by new ids\n",
    "    new_df.drop_duplicates(keep = 'first',inplace=True)\n",
    "    return new_df"
   ]
  },
  {
   "cell_type": "code",
   "execution_count": 14,
   "metadata": {},
   "outputs": [],
   "source": [
    "#get cleaned pcr dataframe\n",
    "df_pcr = clean_pcr_ids(df_pcr,dict_duplicates_id)"
   ]
  },
  {
   "cell_type": "code",
   "execution_count": 15,
   "metadata": {},
   "outputs": [
    {
     "data": {
      "text/html": [
       "<div>\n",
       "<style scoped>\n",
       "    .dataframe tbody tr th:only-of-type {\n",
       "        vertical-align: middle;\n",
       "    }\n",
       "\n",
       "    .dataframe tbody tr th {\n",
       "        vertical-align: top;\n",
       "    }\n",
       "\n",
       "    .dataframe thead th {\n",
       "        text-align: right;\n",
       "    }\n",
       "</style>\n",
       "<table border=\"1\" class=\"dataframe\">\n",
       "  <thead>\n",
       "    <tr style=\"text-align: right;\">\n",
       "      <th></th>\n",
       "      <th>patient_id</th>\n",
       "      <th>pcr</th>\n",
       "    </tr>\n",
       "  </thead>\n",
       "  <tbody>\n",
       "    <tr>\n",
       "      <th>0</th>\n",
       "      <td>653091</td>\n",
       "      <td>N</td>\n",
       "    </tr>\n",
       "    <tr>\n",
       "      <th>1</th>\n",
       "      <td>347667</td>\n",
       "      <td>N</td>\n",
       "    </tr>\n",
       "    <tr>\n",
       "      <th>2</th>\n",
       "      <td>708481</td>\n",
       "      <td>P</td>\n",
       "    </tr>\n",
       "    <tr>\n",
       "      <th>3</th>\n",
       "      <td>148825</td>\n",
       "      <td>N</td>\n",
       "    </tr>\n",
       "    <tr>\n",
       "      <th>4</th>\n",
       "      <td>150081</td>\n",
       "      <td>N</td>\n",
       "    </tr>\n",
       "    <tr>\n",
       "      <th>...</th>\n",
       "      <td>...</td>\n",
       "      <td>...</td>\n",
       "    </tr>\n",
       "    <tr>\n",
       "      <th>8788</th>\n",
       "      <td>85810</td>\n",
       "      <td>N</td>\n",
       "    </tr>\n",
       "    <tr>\n",
       "      <th>8789</th>\n",
       "      <td>99303</td>\n",
       "      <td>N</td>\n",
       "    </tr>\n",
       "    <tr>\n",
       "      <th>8790</th>\n",
       "      <td>99510</td>\n",
       "      <td>N</td>\n",
       "    </tr>\n",
       "    <tr>\n",
       "      <th>8791</th>\n",
       "      <td>98466</td>\n",
       "      <td>N</td>\n",
       "    </tr>\n",
       "    <tr>\n",
       "      <th>8792</th>\n",
       "      <td>92005</td>\n",
       "      <td>N</td>\n",
       "    </tr>\n",
       "  </tbody>\n",
       "</table>\n",
       "<p>8772 rows × 2 columns</p>\n",
       "</div>"
      ],
      "text/plain": [
       "      patient_id pcr\n",
       "0         653091   N\n",
       "1         347667   N\n",
       "2         708481   P\n",
       "3         148825   N\n",
       "4         150081   N\n",
       "...          ...  ..\n",
       "8788       85810   N\n",
       "8789       99303   N\n",
       "8790       99510   N\n",
       "8791       98466   N\n",
       "8792       92005   N\n",
       "\n",
       "[8772 rows x 2 columns]"
      ]
     },
     "metadata": {},
     "output_type": "display_data"
    }
   ],
   "source": [
    "#display cleaned pcr dataframe\n",
    "display(df_pcr)"
   ]
  },
  {
   "cell_type": "code",
   "execution_count": 16,
   "metadata": {},
   "outputs": [
    {
     "data": {
      "text/plain": [
       "patient_id    8772\n",
       "pcr              2\n",
       "dtype: int64"
      ]
     },
     "execution_count": 16,
     "metadata": {},
     "output_type": "execute_result"
    }
   ],
   "source": [
    "df_pcr.nunique()"
   ]
  },
  {
   "cell_type": "markdown",
   "metadata": {},
   "source": [
    "## Join of new pation dataframe without duplicates with df_pcr dataframe"
   ]
  },
  {
   "cell_type": "code",
   "execution_count": 17,
   "metadata": {},
   "outputs": [],
   "source": [
    "#joins df_pce and df_new_patient id with state and age columns\n",
    "new_merged_data = pd.merge(df_pcr,df_new_patient[[\"state\",\"age\",\"patient_id\"]],on='patient_id')"
   ]
  },
  {
   "cell_type": "code",
   "execution_count": 18,
   "metadata": {},
   "outputs": [
    {
     "data": {
      "text/html": [
       "<div>\n",
       "<style scoped>\n",
       "    .dataframe tbody tr th:only-of-type {\n",
       "        vertical-align: middle;\n",
       "    }\n",
       "\n",
       "    .dataframe tbody tr th {\n",
       "        vertical-align: top;\n",
       "    }\n",
       "\n",
       "    .dataframe thead th {\n",
       "        text-align: right;\n",
       "    }\n",
       "</style>\n",
       "<table border=\"1\" class=\"dataframe\">\n",
       "  <thead>\n",
       "    <tr style=\"text-align: right;\">\n",
       "      <th></th>\n",
       "      <th>patient_id</th>\n",
       "      <th>pcr</th>\n",
       "      <th>state</th>\n",
       "      <th>age</th>\n",
       "    </tr>\n",
       "  </thead>\n",
       "  <tbody>\n",
       "    <tr>\n",
       "      <th>0</th>\n",
       "      <td>653091</td>\n",
       "      <td>N</td>\n",
       "      <td>nsw</td>\n",
       "      <td>NaN</td>\n",
       "    </tr>\n",
       "    <tr>\n",
       "      <th>1</th>\n",
       "      <td>347667</td>\n",
       "      <td>N</td>\n",
       "      <td>wa</td>\n",
       "      <td>28.0</td>\n",
       "    </tr>\n",
       "    <tr>\n",
       "      <th>2</th>\n",
       "      <td>708481</td>\n",
       "      <td>P</td>\n",
       "      <td>sa</td>\n",
       "      <td>NaN</td>\n",
       "    </tr>\n",
       "    <tr>\n",
       "      <th>3</th>\n",
       "      <td>148825</td>\n",
       "      <td>N</td>\n",
       "      <td>qld</td>\n",
       "      <td>19.0</td>\n",
       "    </tr>\n",
       "    <tr>\n",
       "      <th>4</th>\n",
       "      <td>150081</td>\n",
       "      <td>N</td>\n",
       "      <td>qld</td>\n",
       "      <td>35.0</td>\n",
       "    </tr>\n",
       "    <tr>\n",
       "      <th>...</th>\n",
       "      <td>...</td>\n",
       "      <td>...</td>\n",
       "      <td>...</td>\n",
       "      <td>...</td>\n",
       "    </tr>\n",
       "    <tr>\n",
       "      <th>8137</th>\n",
       "      <td>103358</td>\n",
       "      <td>N</td>\n",
       "      <td>sa</td>\n",
       "      <td>12.0</td>\n",
       "    </tr>\n",
       "    <tr>\n",
       "      <th>8138</th>\n",
       "      <td>279689</td>\n",
       "      <td>P</td>\n",
       "      <td>tas</td>\n",
       "      <td>NaN</td>\n",
       "    </tr>\n",
       "    <tr>\n",
       "      <th>8139</th>\n",
       "      <td>975612</td>\n",
       "      <td>N</td>\n",
       "      <td>nsw</td>\n",
       "      <td>NaN</td>\n",
       "    </tr>\n",
       "    <tr>\n",
       "      <th>8140</th>\n",
       "      <td>884429</td>\n",
       "      <td>P</td>\n",
       "      <td>wa</td>\n",
       "      <td>NaN</td>\n",
       "    </tr>\n",
       "    <tr>\n",
       "      <th>8141</th>\n",
       "      <td>272409</td>\n",
       "      <td>N</td>\n",
       "      <td>nsw</td>\n",
       "      <td>23.0</td>\n",
       "    </tr>\n",
       "  </tbody>\n",
       "</table>\n",
       "<p>8142 rows × 4 columns</p>\n",
       "</div>"
      ],
      "text/plain": [
       "      patient_id pcr state   age\n",
       "0         653091   N   nsw   NaN\n",
       "1         347667   N    wa  28.0\n",
       "2         708481   P    sa   NaN\n",
       "3         148825   N   qld  19.0\n",
       "4         150081   N   qld  35.0\n",
       "...          ...  ..   ...   ...\n",
       "8137      103358   N    sa  12.0\n",
       "8138      279689   P   tas   NaN\n",
       "8139      975612   N   nsw   NaN\n",
       "8140      884429   P    wa   NaN\n",
       "8141      272409   N   nsw  23.0\n",
       "\n",
       "[8142 rows x 4 columns]"
      ]
     },
     "metadata": {},
     "output_type": "display_data"
    }
   ],
   "source": [
    "#display merged data frame\n",
    "display(new_merged_data)"
   ]
  },
  {
   "cell_type": "code",
   "execution_count": 19,
   "metadata": {},
   "outputs": [
    {
     "data": {
      "text/plain": [
       "patient_id    8142\n",
       "pcr              2\n",
       "state            8\n",
       "age             45\n",
       "dtype: int64"
      ]
     },
     "execution_count": 19,
     "metadata": {},
     "output_type": "execute_result"
    }
   ],
   "source": [
    "#get nunique values\n",
    "new_merged_data.nunique()"
   ]
  },
  {
   "cell_type": "code",
   "execution_count": 20,
   "metadata": {},
   "outputs": [
    {
     "data": {
      "text/plain": [
       "array(['wa', 'nsw', 'qld', 'nt', None, 'act', 'vic', 'sa', 'tas'],\n",
       "      dtype=object)"
      ]
     },
     "execution_count": 20,
     "metadata": {},
     "output_type": "execute_result"
    }
   ],
   "source": [
    "df_new_patient.state.unique()"
   ]
  },
  {
   "cell_type": "markdown",
   "metadata": {},
   "source": [
    "On remarque que tous les states sont valides sauf un state a un None value qu'il sera abandonné dans la suite de nos analyses."
   ]
  },
  {
   "cell_type": "code",
   "execution_count": 21,
   "metadata": {},
   "outputs": [],
   "source": [
    "#create new df_tests dataframe contains count of total pcr tests, total positive tests and total negative tests per state\n",
    "df_tests = pd.DataFrame()\n",
    "df_tests[\"pcr_P\"] = new_merged_data[new_merged_data.pcr == \"P\"].groupby('state')['pcr'].count()\n",
    "df_tests[\"pcr_N\"] = new_merged_data[new_merged_data.pcr == \"N\"].groupby('state')['pcr'].count()\n",
    "df_tests[\"pcr_T\"] = new_merged_data.groupby('state')['pcr'].count()"
   ]
  },
  {
   "cell_type": "code",
   "execution_count": 22,
   "metadata": {},
   "outputs": [
    {
     "data": {
      "text/html": [
       "<div>\n",
       "<style scoped>\n",
       "    .dataframe tbody tr th:only-of-type {\n",
       "        vertical-align: middle;\n",
       "    }\n",
       "\n",
       "    .dataframe tbody tr th {\n",
       "        vertical-align: top;\n",
       "    }\n",
       "\n",
       "    .dataframe thead th {\n",
       "        text-align: right;\n",
       "    }\n",
       "</style>\n",
       "<table border=\"1\" class=\"dataframe\">\n",
       "  <thead>\n",
       "    <tr style=\"text-align: right;\">\n",
       "      <th></th>\n",
       "      <th>pcr_P</th>\n",
       "      <th>pcr_N</th>\n",
       "      <th>pcr_T</th>\n",
       "    </tr>\n",
       "    <tr>\n",
       "      <th>state</th>\n",
       "      <th></th>\n",
       "      <th></th>\n",
       "      <th></th>\n",
       "    </tr>\n",
       "  </thead>\n",
       "  <tbody>\n",
       "    <tr>\n",
       "      <th>act</th>\n",
       "      <td>29</td>\n",
       "      <td>82</td>\n",
       "      <td>111</td>\n",
       "    </tr>\n",
       "    <tr>\n",
       "      <th>nsw</th>\n",
       "      <td>600</td>\n",
       "      <td>1834</td>\n",
       "      <td>2434</td>\n",
       "    </tr>\n",
       "    <tr>\n",
       "      <th>nt</th>\n",
       "      <td>4</td>\n",
       "      <td>43</td>\n",
       "      <td>47</td>\n",
       "    </tr>\n",
       "    <tr>\n",
       "      <th>qld</th>\n",
       "      <td>357</td>\n",
       "      <td>1080</td>\n",
       "      <td>1437</td>\n",
       "    </tr>\n",
       "    <tr>\n",
       "      <th>sa</th>\n",
       "      <td>126</td>\n",
       "      <td>451</td>\n",
       "      <td>577</td>\n",
       "    </tr>\n",
       "    <tr>\n",
       "      <th>tas</th>\n",
       "      <td>54</td>\n",
       "      <td>157</td>\n",
       "      <td>211</td>\n",
       "    </tr>\n",
       "    <tr>\n",
       "      <th>vic</th>\n",
       "      <td>480</td>\n",
       "      <td>1331</td>\n",
       "      <td>1811</td>\n",
       "    </tr>\n",
       "    <tr>\n",
       "      <th>wa</th>\n",
       "      <td>177</td>\n",
       "      <td>512</td>\n",
       "      <td>689</td>\n",
       "    </tr>\n",
       "  </tbody>\n",
       "</table>\n",
       "</div>"
      ],
      "text/plain": [
       "       pcr_P  pcr_N  pcr_T\n",
       "state                     \n",
       "act       29     82    111\n",
       "nsw      600   1834   2434\n",
       "nt         4     43     47\n",
       "qld      357   1080   1437\n",
       "sa       126    451    577\n",
       "tas       54    157    211\n",
       "vic      480   1331   1811\n",
       "wa       177    512    689"
      ]
     },
     "metadata": {},
     "output_type": "display_data"
    }
   ],
   "source": [
    "display(df_tests)"
   ]
  },
  {
   "cell_type": "code",
   "execution_count": 23,
   "metadata": {},
   "outputs": [],
   "source": [
    "#construct df_geo_coordinates dataframe to get latitude and ligitude of each state to be used to represent data per state on australia map\n",
    "df_geo_coordinates = pd.DataFrame.from_dict({'lat':[-37.4713,-31.2532,-20.9176,-30.0002,-41.4545,-27.6728,-35.4735,-19.4914],'lon':[144.7852,146.9211,142.7028,136.2092,145.9707,121.6283,149.0124,132.5510],'state':[\"vic\",\"nsw\",\"qld\",\"sa\",\"tas\",\"wa\",\"act\",\"nt\"]})"
   ]
  },
  {
   "cell_type": "code",
   "execution_count": 24,
   "metadata": {},
   "outputs": [],
   "source": [
    "#construnt a new dataframe to be used for visualization\n",
    "df_state_geo_tests_pcr = pd.merge(df_tests,df_geo_coordinates,on='state')"
   ]
  },
  {
   "cell_type": "code",
   "execution_count": 25,
   "metadata": {},
   "outputs": [
    {
     "data": {
      "text/html": [
       "<div>\n",
       "<style scoped>\n",
       "    .dataframe tbody tr th:only-of-type {\n",
       "        vertical-align: middle;\n",
       "    }\n",
       "\n",
       "    .dataframe tbody tr th {\n",
       "        vertical-align: top;\n",
       "    }\n",
       "\n",
       "    .dataframe thead th {\n",
       "        text-align: right;\n",
       "    }\n",
       "</style>\n",
       "<table border=\"1\" class=\"dataframe\">\n",
       "  <thead>\n",
       "    <tr style=\"text-align: right;\">\n",
       "      <th></th>\n",
       "      <th>state</th>\n",
       "      <th>pcr_P</th>\n",
       "      <th>pcr_N</th>\n",
       "      <th>pcr_T</th>\n",
       "      <th>lat</th>\n",
       "      <th>lon</th>\n",
       "    </tr>\n",
       "  </thead>\n",
       "  <tbody>\n",
       "    <tr>\n",
       "      <th>0</th>\n",
       "      <td>act</td>\n",
       "      <td>29</td>\n",
       "      <td>82</td>\n",
       "      <td>111</td>\n",
       "      <td>-35.4735</td>\n",
       "      <td>149.0124</td>\n",
       "    </tr>\n",
       "    <tr>\n",
       "      <th>1</th>\n",
       "      <td>nsw</td>\n",
       "      <td>600</td>\n",
       "      <td>1834</td>\n",
       "      <td>2434</td>\n",
       "      <td>-31.2532</td>\n",
       "      <td>146.9211</td>\n",
       "    </tr>\n",
       "    <tr>\n",
       "      <th>2</th>\n",
       "      <td>nt</td>\n",
       "      <td>4</td>\n",
       "      <td>43</td>\n",
       "      <td>47</td>\n",
       "      <td>-19.4914</td>\n",
       "      <td>132.5510</td>\n",
       "    </tr>\n",
       "    <tr>\n",
       "      <th>3</th>\n",
       "      <td>qld</td>\n",
       "      <td>357</td>\n",
       "      <td>1080</td>\n",
       "      <td>1437</td>\n",
       "      <td>-20.9176</td>\n",
       "      <td>142.7028</td>\n",
       "    </tr>\n",
       "    <tr>\n",
       "      <th>4</th>\n",
       "      <td>sa</td>\n",
       "      <td>126</td>\n",
       "      <td>451</td>\n",
       "      <td>577</td>\n",
       "      <td>-30.0002</td>\n",
       "      <td>136.2092</td>\n",
       "    </tr>\n",
       "    <tr>\n",
       "      <th>5</th>\n",
       "      <td>tas</td>\n",
       "      <td>54</td>\n",
       "      <td>157</td>\n",
       "      <td>211</td>\n",
       "      <td>-41.4545</td>\n",
       "      <td>145.9707</td>\n",
       "    </tr>\n",
       "    <tr>\n",
       "      <th>6</th>\n",
       "      <td>vic</td>\n",
       "      <td>480</td>\n",
       "      <td>1331</td>\n",
       "      <td>1811</td>\n",
       "      <td>-37.4713</td>\n",
       "      <td>144.7852</td>\n",
       "    </tr>\n",
       "    <tr>\n",
       "      <th>7</th>\n",
       "      <td>wa</td>\n",
       "      <td>177</td>\n",
       "      <td>512</td>\n",
       "      <td>689</td>\n",
       "      <td>-27.6728</td>\n",
       "      <td>121.6283</td>\n",
       "    </tr>\n",
       "  </tbody>\n",
       "</table>\n",
       "</div>"
      ],
      "text/plain": [
       "  state  pcr_P  pcr_N  pcr_T      lat       lon\n",
       "0   act     29     82    111 -35.4735  149.0124\n",
       "1   nsw    600   1834   2434 -31.2532  146.9211\n",
       "2    nt      4     43     47 -19.4914  132.5510\n",
       "3   qld    357   1080   1437 -20.9176  142.7028\n",
       "4    sa    126    451    577 -30.0002  136.2092\n",
       "5   tas     54    157    211 -41.4545  145.9707\n",
       "6   vic    480   1331   1811 -37.4713  144.7852\n",
       "7    wa    177    512    689 -27.6728  121.6283"
      ]
     },
     "metadata": {},
     "output_type": "display_data"
    }
   ],
   "source": [
    "display(df_state_geo_tests_pcr)"
   ]
  },
  {
   "cell_type": "markdown",
   "metadata": {},
   "source": [
    "## Visualize total tests per state (bar & pie charts)"
   ]
  },
  {
   "cell_type": "code",
   "execution_count": 26,
   "metadata": {},
   "outputs": [
    {
     "data": {
      "image/png": "[encoded data removed]",
      "text/plain": [
       "<Figure size 1440x720 with 2 Axes>"
      ]
     },
     "metadata": {
      "needs_background": "light"
     },
     "output_type": "display_data"
    }
   ],
   "source": [
    "fig, (ax1, ax2) = plt.subplots(1, 2, figsize=(20,10))\n",
    "sns.set(style=\"darkgrid\")\n",
    "sns.barplot(x=\"state\",y=\"pcr_T\", data=df_state_geo_tests_pcr.sort_values(['pcr_T'],ascending=False).reset_index(drop=True),ax=ax1)\n",
    "\n",
    "# defining labels \n",
    "activities = df_state_geo_tests_pcr.sort_values(['pcr_T'],ascending=False)['state']  \n",
    "# portion covered by each label \n",
    "slices = df_state_geo_tests_pcr.sort_values(['pcr_T'],ascending=False)['pcr_T']\n",
    "  \n",
    "# plotting the pie chart \n",
    "ax2.pie(slices, labels = activities,  \n",
    "        startangle=90, \n",
    "        radius = 1, autopct = '%1.1f%%') \n",
    "\n",
    "# plotting legend \n",
    "ax2.legend(loc=\"upper right\")\n",
    "\n",
    "# plotting titles \n",
    "ax1.set_title(\"Total tests per state\", fontsize=18)\n",
    "ax2.set_title(\"Total tests per state\", fontsize=18)\n",
    "\n",
    "plt.show()"
   ]
  },
  {
   "cell_type": "markdown",
   "metadata": {},
   "source": [
    "## Visualize total positive and negative tests per state (bar chart)"
   ]
  },
  {
   "cell_type": "markdown",
   "metadata": {},
   "source": [
    "On peut remarqué que le nombre de tests realisé est plus élevé en nsw state puis vic, qld, wa, sa, tas, act et finalement nt ayant le minimum nombre de tests comme elle a moins de population présente dans cet state. Aussi, le nombre des tests est bien proportionnel au populations selon le lien suivant https://en.wikipedia.org/wiki/Postcodes_in_Australia"
   ]
  },
  {
   "cell_type": "code",
   "execution_count": 27,
   "metadata": {},
   "outputs": [],
   "source": [
    "#construct new percent dataframe having the percentage of positive and negative tests per state\n",
    "x,y = 'state', 'pcr'\n",
    "df_state_percent = new_merged_data.groupby(x)[y].value_counts(normalize=True).mul(100).rename('percent').reset_index()"
   ]
  },
  {
   "cell_type": "code",
   "execution_count": 28,
   "metadata": {},
   "outputs": [
    {
     "data": {
      "image/png": "[encoded data removed]",
      "text/plain": [
       "<Figure size 1440x720 with 1 Axes>"
      ]
     },
     "metadata": {},
     "output_type": "display_data"
    }
   ],
   "source": [
    "plt.figure(figsize=(20,10))\n",
    "sns.set(style=\"darkgrid\")\n",
    "sns.barplot(x='state',y='percent',hue='pcr',data=df_state_percent).set_title(\"Total positive and negative tests per state (%)\",fontsize=18)\n",
    "plt.show()"
   ]
  },
  {
   "cell_type": "markdown",
   "metadata": {},
   "source": [
    "On remarque que pour la plupart des states le poucentage des positives tests (entre 75% et 80%) et negative tests (entre 20% et 30%) est le meme."
   ]
  },
  {
   "cell_type": "markdown",
   "metadata": {},
   "source": [
    "## Visualize total positive and negative tests per age (bar chart)"
   ]
  },
  {
   "cell_type": "markdown",
   "metadata": {},
   "source": [
    "Australia age distribution:\n",
    "\n",
    "* 0-14 years: 17,75% (Men 2.138.080 /Women 2.027.583)\n",
    "* 15-24 years: 12,62% (Men 1.520.528 /Women 1.442.461)\n",
    "* 25-54 years: 41,35% (Men 4.944.587 /Women 4.760.752)\n",
    "* 55-64 years: 11,84% (Men 1.379.681 /Women 1.398.177)\n",
    "* 65 + : 16,44% (Men 1.786.595 /Women 2.071.701) (2018 est.)\n",
    "\n",
    "Ref : https://www.indexmundi.com/fr/australie/repartition_par_age.html"
   ]
  },
  {
   "cell_type": "code",
   "execution_count": 29,
   "metadata": {},
   "outputs": [],
   "source": [
    "def subdivise_age_column(x):\n",
    "    \n",
    "    \"\"\"label age data \n",
    "    \n",
    "    Parameters\n",
    "    ----------\n",
    "    x : list\n",
    "        list of patient informations\n",
    "    \n",
    "    Returns\n",
    "    -------\n",
    "    list\n",
    "        a list with new age_label column \n",
    "    \"\"\"\n",
    "    \n",
    "    #verify if age in [0,14]\n",
    "    if pd.notnull(x[\"age\"]):\n",
    "        if x[\"age\"] < 15:\n",
    "            x[\"age_label\"] = \"0 to 14\"\n",
    "\n",
    "        #verify if age in [15,24]\n",
    "        elif x[\"age\"] < 25:\n",
    "            x[\"age_label\"] = \"15 to 24\"\n",
    "\n",
    "        #verify if age in [25,54]\n",
    "        elif x[\"age\"] < 55:\n",
    "            x[\"age_label\"] = \"25 to 54\"\n",
    "\n",
    "        #verify if age in [55,64]\n",
    "        elif x[\"age\"] < 65:\n",
    "            x[\"age_label\"] = \"55 to 64\"\n",
    "\n",
    "        #verify if age > 64\n",
    "        else:\n",
    "            x[\"age_label\"] = \"65+\"\n",
    "        return (x)\n",
    "    else:\n",
    "        return x"
   ]
  },
  {
   "cell_type": "code",
   "execution_count": 30,
   "metadata": {},
   "outputs": [],
   "source": [
    "#add age_label column\n",
    "df_age = new_merged_data.apply(subdivise_age_column,axis=1)"
   ]
  },
  {
   "cell_type": "code",
   "execution_count": 31,
   "metadata": {},
   "outputs": [
    {
     "data": {
      "text/html": [
       "<div>\n",
       "<style scoped>\n",
       "    .dataframe tbody tr th:only-of-type {\n",
       "        vertical-align: middle;\n",
       "    }\n",
       "\n",
       "    .dataframe tbody tr th {\n",
       "        vertical-align: top;\n",
       "    }\n",
       "\n",
       "    .dataframe thead th {\n",
       "        text-align: right;\n",
       "    }\n",
       "</style>\n",
       "<table border=\"1\" class=\"dataframe\">\n",
       "  <thead>\n",
       "    <tr style=\"text-align: right;\">\n",
       "      <th></th>\n",
       "      <th>age</th>\n",
       "      <th>age_label</th>\n",
       "      <th>patient_id</th>\n",
       "      <th>pcr</th>\n",
       "      <th>state</th>\n",
       "    </tr>\n",
       "  </thead>\n",
       "  <tbody>\n",
       "    <tr>\n",
       "      <th>0</th>\n",
       "      <td>NaN</td>\n",
       "      <td>NaN</td>\n",
       "      <td>653091</td>\n",
       "      <td>N</td>\n",
       "      <td>nsw</td>\n",
       "    </tr>\n",
       "    <tr>\n",
       "      <th>1</th>\n",
       "      <td>28.0</td>\n",
       "      <td>25 to 54</td>\n",
       "      <td>347667</td>\n",
       "      <td>N</td>\n",
       "      <td>wa</td>\n",
       "    </tr>\n",
       "    <tr>\n",
       "      <th>2</th>\n",
       "      <td>NaN</td>\n",
       "      <td>NaN</td>\n",
       "      <td>708481</td>\n",
       "      <td>P</td>\n",
       "      <td>sa</td>\n",
       "    </tr>\n",
       "    <tr>\n",
       "      <th>3</th>\n",
       "      <td>19.0</td>\n",
       "      <td>15 to 24</td>\n",
       "      <td>148825</td>\n",
       "      <td>N</td>\n",
       "      <td>qld</td>\n",
       "    </tr>\n",
       "    <tr>\n",
       "      <th>4</th>\n",
       "      <td>35.0</td>\n",
       "      <td>25 to 54</td>\n",
       "      <td>150081</td>\n",
       "      <td>N</td>\n",
       "      <td>qld</td>\n",
       "    </tr>\n",
       "    <tr>\n",
       "      <th>...</th>\n",
       "      <td>...</td>\n",
       "      <td>...</td>\n",
       "      <td>...</td>\n",
       "      <td>...</td>\n",
       "      <td>...</td>\n",
       "    </tr>\n",
       "    <tr>\n",
       "      <th>8137</th>\n",
       "      <td>12.0</td>\n",
       "      <td>0 to 14</td>\n",
       "      <td>103358</td>\n",
       "      <td>N</td>\n",
       "      <td>sa</td>\n",
       "    </tr>\n",
       "    <tr>\n",
       "      <th>8138</th>\n",
       "      <td>NaN</td>\n",
       "      <td>NaN</td>\n",
       "      <td>279689</td>\n",
       "      <td>P</td>\n",
       "      <td>tas</td>\n",
       "    </tr>\n",
       "    <tr>\n",
       "      <th>8139</th>\n",
       "      <td>NaN</td>\n",
       "      <td>NaN</td>\n",
       "      <td>975612</td>\n",
       "      <td>N</td>\n",
       "      <td>nsw</td>\n",
       "    </tr>\n",
       "    <tr>\n",
       "      <th>8140</th>\n",
       "      <td>NaN</td>\n",
       "      <td>NaN</td>\n",
       "      <td>884429</td>\n",
       "      <td>P</td>\n",
       "      <td>wa</td>\n",
       "    </tr>\n",
       "    <tr>\n",
       "      <th>8141</th>\n",
       "      <td>23.0</td>\n",
       "      <td>15 to 24</td>\n",
       "      <td>272409</td>\n",
       "      <td>N</td>\n",
       "      <td>nsw</td>\n",
       "    </tr>\n",
       "  </tbody>\n",
       "</table>\n",
       "<p>8142 rows × 5 columns</p>\n",
       "</div>"
      ],
      "text/plain": [
       "       age age_label  patient_id pcr state\n",
       "0      NaN       NaN      653091   N   nsw\n",
       "1     28.0  25 to 54      347667   N    wa\n",
       "2      NaN       NaN      708481   P    sa\n",
       "3     19.0  15 to 24      148825   N   qld\n",
       "4     35.0  25 to 54      150081   N   qld\n",
       "...    ...       ...         ...  ..   ...\n",
       "8137  12.0   0 to 14      103358   N    sa\n",
       "8138   NaN       NaN      279689   P   tas\n",
       "8139   NaN       NaN      975612   N   nsw\n",
       "8140   NaN       NaN      884429   P    wa\n",
       "8141  23.0  15 to 24      272409   N   nsw\n",
       "\n",
       "[8142 rows x 5 columns]"
      ]
     },
     "metadata": {},
     "output_type": "display_data"
    }
   ],
   "source": [
    "display(df_age)"
   ]
  },
  {
   "cell_type": "code",
   "execution_count": 32,
   "metadata": {},
   "outputs": [
    {
     "data": {
      "text/plain": [
       "array([nan, '25 to 54', '15 to 24', '0 to 14', '65+'], dtype=object)"
      ]
     },
     "execution_count": 32,
     "metadata": {},
     "output_type": "execute_result"
    }
   ],
   "source": [
    "#get age_label unique values\n",
    "df_age.age_label.unique()"
   ]
  },
  {
   "cell_type": "markdown",
   "metadata": {},
   "source": [
    "On remarque que 4 catégories figurent dans la colonne age_label et un autre nan qui sera abondonné dans la suite de nos analyses"
   ]
  },
  {
   "cell_type": "code",
   "execution_count": 33,
   "metadata": {},
   "outputs": [],
   "source": [
    "#construct new percent dataframe having the percentage of tests conducted on a particular subdivision age per state\n",
    "x,y = 'state', 'age_label'\n",
    "df_age_percent = df_age.groupby(x)[y].value_counts(normalize=True).mul(100).rename('percent').reset_index()"
   ]
  },
  {
   "cell_type": "code",
   "execution_count": 34,
   "metadata": {},
   "outputs": [
    {
     "data": {
      "image/png": "[encoded data removed]",
      "text/plain": [
       "<Figure size 1440x720 with 1 Axes>"
      ]
     },
     "metadata": {},
     "output_type": "display_data"
    }
   ],
   "source": [
    "plt.figure(figsize=(20,10))\n",
    "sns.set(style=\"darkgrid\")\n",
    "sns.barplot(x='state',y='percent',hue='age_label',data=df_age_percent).set_title(\"Total conducted tests per age & state (%)\",fontsize=18)\n",
    "plt.show()"
   ]
  },
  {
   "cell_type": "markdown",
   "metadata": {},
   "source": [
    "D'près cette figure, on remarque que le nombre de tests effectué est proportionnel pa rapprot a la population de l'australie. En fait, D'après la source illustrée en haut, la tranche d'age entre 25 et 54 représente environ 41% ce qui est logique que le nombre de test sur cette tranche d'age est plus elevé que pour les autres."
   ]
  },
  {
   "cell_type": "markdown",
   "metadata": {},
   "source": [
    "### Visualize positive and negative tests per state and per age"
   ]
  },
  {
   "cell_type": "code",
   "execution_count": 35,
   "metadata": {},
   "outputs": [
    {
     "data": {
      "text/plain": [
       "Text(0.5, 0.98, 'Total conducted positive and negative tests per age & state')"
      ]
     },
     "execution_count": 35,
     "metadata": {},
     "output_type": "execute_result"
    },
    {
     "data": {
      "image/png": "[encoded data removed]",
      "text/plain": [
       "<Figure size 1087.35x504 with 2 Axes>"
      ]
     },
     "metadata": {},
     "output_type": "display_data"
    }
   ],
   "source": [
    "sns.set(style=\"darkgrid\")\n",
    "g = sns.catplot(x=\"state\",hue=\"age_label\", col=\"pcr\",data=df_age, kind=\"count\",height=7)\n",
    "g.fig.subplots_adjust(top=0.9)\n",
    "g.fig.suptitle(\"Total conducted positive and negative tests per age & state\",fontsize=18)"
   ]
  },
  {
   "cell_type": "markdown",
   "metadata": {},
   "source": [
    "D'après ces deux figures on peut conclure que le nombre de tests positifs est plus élevé pour la tranche d'age entre 25 et 54 ans qui représente environ 41% de la population et aussi dans le state nsw puis vic, qld et ainsi de suite. Du coup, on remarque que le coronavirus est se repandent plus vites dans les cités de grande densité (nsw,vic,qld) et aussi surtout pour la tanche d'âge actif (15-24 ans) , âge d'entrée en activité (25-54 ans) et l'âge adulte (55-64 ans) plus que les autres tranches d'ages dans l'australie."
   ]
  },
  {
   "cell_type": "markdown",
   "metadata": {},
   "source": [
    "### Map visualization"
   ]
  },
  {
   "cell_type": "code",
   "execution_count": 36,
   "metadata": {},
   "outputs": [],
   "source": [
    "#scale number of positive pcr tests to be represented in the Australia map\n",
    "min_pcr_positive_tests = min(df_state_geo_tests_pcr['pcr_P'])\n",
    "max_pcr_positive_tests = max(df_state_geo_tests_pcr['pcr_P'])\n",
    "                             \n",
    "df_state_geo_tests_pcr['scaled_pcr_P'] = df_state_geo_tests_pcr['pcr_P'].apply(lambda x: 10 + 20*(x-min_pcr_positive_tests)/(max_pcr_positive_tests-min_pcr_positive_tests))"
   ]
  },
  {
   "cell_type": "code",
   "execution_count": 37,
   "metadata": {},
   "outputs": [
    {
     "data": {
      "text/html": [
       "<div>\n",
       "<style scoped>\n",
       "    .dataframe tbody tr th:only-of-type {\n",
       "        vertical-align: middle;\n",
       "    }\n",
       "\n",
       "    .dataframe tbody tr th {\n",
       "        vertical-align: top;\n",
       "    }\n",
       "\n",
       "    .dataframe thead th {\n",
       "        text-align: right;\n",
       "    }\n",
       "</style>\n",
       "<table border=\"1\" class=\"dataframe\">\n",
       "  <thead>\n",
       "    <tr style=\"text-align: right;\">\n",
       "      <th></th>\n",
       "      <th>state</th>\n",
       "      <th>pcr_P</th>\n",
       "      <th>pcr_N</th>\n",
       "      <th>pcr_T</th>\n",
       "      <th>lat</th>\n",
       "      <th>lon</th>\n",
       "      <th>scaled_pcr_P</th>\n",
       "    </tr>\n",
       "  </thead>\n",
       "  <tbody>\n",
       "    <tr>\n",
       "      <th>0</th>\n",
       "      <td>act</td>\n",
       "      <td>29</td>\n",
       "      <td>82</td>\n",
       "      <td>111</td>\n",
       "      <td>-35.4735</td>\n",
       "      <td>149.0124</td>\n",
       "      <td>10.838926</td>\n",
       "    </tr>\n",
       "    <tr>\n",
       "      <th>1</th>\n",
       "      <td>nsw</td>\n",
       "      <td>600</td>\n",
       "      <td>1834</td>\n",
       "      <td>2434</td>\n",
       "      <td>-31.2532</td>\n",
       "      <td>146.9211</td>\n",
       "      <td>30.000000</td>\n",
       "    </tr>\n",
       "    <tr>\n",
       "      <th>2</th>\n",
       "      <td>nt</td>\n",
       "      <td>4</td>\n",
       "      <td>43</td>\n",
       "      <td>47</td>\n",
       "      <td>-19.4914</td>\n",
       "      <td>132.5510</td>\n",
       "      <td>10.000000</td>\n",
       "    </tr>\n",
       "    <tr>\n",
       "      <th>3</th>\n",
       "      <td>qld</td>\n",
       "      <td>357</td>\n",
       "      <td>1080</td>\n",
       "      <td>1437</td>\n",
       "      <td>-20.9176</td>\n",
       "      <td>142.7028</td>\n",
       "      <td>21.845638</td>\n",
       "    </tr>\n",
       "    <tr>\n",
       "      <th>4</th>\n",
       "      <td>sa</td>\n",
       "      <td>126</td>\n",
       "      <td>451</td>\n",
       "      <td>577</td>\n",
       "      <td>-30.0002</td>\n",
       "      <td>136.2092</td>\n",
       "      <td>14.093960</td>\n",
       "    </tr>\n",
       "    <tr>\n",
       "      <th>5</th>\n",
       "      <td>tas</td>\n",
       "      <td>54</td>\n",
       "      <td>157</td>\n",
       "      <td>211</td>\n",
       "      <td>-41.4545</td>\n",
       "      <td>145.9707</td>\n",
       "      <td>11.677852</td>\n",
       "    </tr>\n",
       "    <tr>\n",
       "      <th>6</th>\n",
       "      <td>vic</td>\n",
       "      <td>480</td>\n",
       "      <td>1331</td>\n",
       "      <td>1811</td>\n",
       "      <td>-37.4713</td>\n",
       "      <td>144.7852</td>\n",
       "      <td>25.973154</td>\n",
       "    </tr>\n",
       "    <tr>\n",
       "      <th>7</th>\n",
       "      <td>wa</td>\n",
       "      <td>177</td>\n",
       "      <td>512</td>\n",
       "      <td>689</td>\n",
       "      <td>-27.6728</td>\n",
       "      <td>121.6283</td>\n",
       "      <td>15.805369</td>\n",
       "    </tr>\n",
       "  </tbody>\n",
       "</table>\n",
       "</div>"
      ],
      "text/plain": [
       "  state  pcr_P  pcr_N  pcr_T      lat       lon  scaled_pcr_P\n",
       "0   act     29     82    111 -35.4735  149.0124     10.838926\n",
       "1   nsw    600   1834   2434 -31.2532  146.9211     30.000000\n",
       "2    nt      4     43     47 -19.4914  132.5510     10.000000\n",
       "3   qld    357   1080   1437 -20.9176  142.7028     21.845638\n",
       "4    sa    126    451    577 -30.0002  136.2092     14.093960\n",
       "5   tas     54    157    211 -41.4545  145.9707     11.677852\n",
       "6   vic    480   1331   1811 -37.4713  144.7852     25.973154\n",
       "7    wa    177    512    689 -27.6728  121.6283     15.805369"
      ]
     },
     "metadata": {},
     "output_type": "display_data"
    }
   ],
   "source": [
    "#display df_state_geo_tests_pcr dataframe\n",
    "display(df_state_geo_tests_pcr)"
   ]
  },
  {
   "cell_type": "markdown",
   "metadata": {},
   "source": [
    "## Map of positive test cases"
   ]
  },
  {
   "cell_type": "markdown",
   "metadata": {},
   "source": [
    "### Create Australia map to represent positive test cases: \n",
    "* Display a state when hovering over the object (circle).\n",
    "* Display the number of positive cases when clicking on object (circle)."
   ]
  },
  {
   "cell_type": "code",
   "execution_count": 42,
   "metadata": {},
   "outputs": [
    {
     "data": {
      "text/html": [
       "<div style=\"width:100%;\"><div style=\"position:relative;width:100%;height:0;padding-bottom:60%;\"><span style=\"color:#565656\">Make this Notebook Trusted to load map: File -> Trust Notebook</span><iframe src=\"about:blank\" style=\"position:absolute;width:100%;height:100%;left:0;top:0;border:none !important;\" data-html=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 onload=\"this.contentDocument.open();this.contentDocument.write(atob(this.getAttribute('data-html')));this.contentDocument.close();\" allowfullscreen webkitallowfullscreen mozallowfullscreen></iframe></div></div>"
      ],
      "text/plain": [
       "<folium.folium.Map at 0x18de820b0b8>"
      ]
     },
     "execution_count": 42,
     "metadata": {},
     "output_type": "execute_result"
    }
   ],
   "source": [
    "#get Australia map\n",
    "australia_map = folium.Map((-25.2744, 133.7751),zoom_start=5)\n",
    "#draw circles which represent state on map whith test positive informations\n",
    "for idx,row  in df_state_geo_tests_pcr.iterrows():\n",
    "    folium.CircleMarker(\n",
    "            [row['lat'], row['lon']],\n",
    "            radius=row['scaled_pcr_P'],\n",
    "            popup=\"{} tested positive cases\".format(row['pcr_P']),\n",
    "            fill=True,\n",
    "            tooltip=row['state'],\n",
    "            color='red',\n",
    "            fill_color='red',\n",
    "            fill_opacity=0.6,\n",
    "            ).add_to(australia_map)\n",
    "    \n",
    "    #add number of positive cases to circle\n",
    "    folium.Marker(\n",
    "    [row['lat'], row['lon']],\n",
    "    icon=DivIcon(\n",
    "        icon_size=(row['scaled_pcr_P'],row['scaled_pcr_P']),\n",
    "        icon_anchor=(7,7),\n",
    "        html='<div style=\"font-size: 9pt\">%s</div>' % row['pcr_P'],\n",
    "        )\n",
    "    ).add_to(australia_map)\n",
    "    \n",
    "australia_map"
   ]
  },
  {
   "cell_type": "code",
   "execution_count": null,
   "metadata": {},
   "outputs": [],
   "source": []
  }
 ],
 "metadata": {
  "kernelspec": {
   "display_name": "Python 3",
   "language": "python",
   "name": "python3"
  },
  "language_info": {
   "codemirror_mode": {
    "name": "ipython",
    "version": 3
   },
   "file_extension": ".py",
   "mimetype": "text/x-python",
   "name": "python",
   "nbconvert_exporter": "python",
   "pygments_lexer": "ipython3",
   "version": "3.6.1"
  }
 },
 "nbformat": 4,
 "nbformat_minor": 4
}
